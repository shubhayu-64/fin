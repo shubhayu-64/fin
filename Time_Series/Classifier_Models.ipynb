{
  "cells": [
    {
      "cell_type": "markdown",
      "metadata": {
        "id": "kw5RJ-c6CM-u"
      },
      "source": [
        "# Pipeline: Classifier Models\n",
        "\n",
        "## 1. Introduction\n",
        "\n",
        "Predicting the direction of stock prices allows traders to classify stocks as *Buy* if the price will increase 'n' days in the future, or *Sell* if it will decrease. \n",
        "\n",
        "A pipeline of ten classifier models will be created to streamline the selection process. After a spot check of the models the top three will be selected based on evaluation metrics in the classification report. Grid Search cross validation will then be used to find the best parameters for tuning the models, and confusion matrices will be plotted to better visualise performance."
      ]
    },
    {
      "cell_type": "markdown",
      "metadata": {
        "id": "vrB05gOLI0vY"
      },
      "source": [
        "## 2. Install/import libraries"
      ]
    },
    {
      "cell_type": "code",
      "execution_count": null,
      "metadata": {},
      "outputs": [],
      "source": [
        "!pip install yfinance"
      ]
    },
    {
      "cell_type": "code",
      "execution_count": 1,
      "metadata": {
        "id": "A9Tmjs6C0Jgk"
      },
      "outputs": [],
      "source": [
        "import numpy as np\n",
        "import pandas as pd\n",
        "import matplotlib.pyplot as plt\n",
        "import seaborn as sns\n",
        "\n",
        "import yfinance as yf\n",
        "\n",
        "from sklearn.model_selection import TimeSeriesSplit, GridSearchCV\n",
        "from sklearn.metrics import confusion_matrix, classification_report\n",
        "from sklearn.preprocessing import StandardScaler\n",
        "from sklearn.pipeline import Pipeline\n",
        "\n",
        "%matplotlib inline\n",
        "\n",
        "# Importing the 10 models\n",
        "from sklearn.ensemble import AdaBoostClassifier, GradientBoostingClassifier, RandomForestClassifier\n",
        "from sklearn.tree import DecisionTreeClassifier\n",
        "from sklearn.dummy import DummyClassifier\n",
        "from sklearn.neighbors import KNeighborsClassifier\n",
        "from sklearn.linear_model import LogisticRegression\n",
        "from sklearn.naive_bayes import GaussianNB\n",
        "from sklearn.svm import SVC\n",
        "from xgboost import XGBClassifier\n",
        "\n",
        "import warnings\n",
        "warnings.filterwarnings('ignore')"
      ]
    },
    {
      "cell_type": "markdown",
      "metadata": {
        "id": "itelkf3fI5tK"
      },
      "source": [
        "## 3. Import data\n",
        "\n",
        "Ten years of AstraZeneca stock data will be downloaded from Yahoo! Finance using the yfinance API."
      ]
    },
    {
      "cell_type": "code",
      "execution_count": 3,
      "metadata": {
        "colab": {
          "base_uri": "https://localhost:8080/"
        },
        "id": "RnE8hlmrLEz2",
        "outputId": "00e2aa35-bb7f-4a2e-a5f5-169325537761"
      },
      "outputs": [
        {
          "name": "stdout",
          "output_type": "stream",
          "text": [
            "[*********************100%%**********************]  1 of 1 completed\n"
          ]
        }
      ],
      "source": [
        "azn_df = yf.download(\"AZN.L\", start=\"2013-01-01\", end=\"2023-10-10\")[['Adj Close','Open', 'High', 'Low', 'Close', 'Volume']].round(2)"
      ]
    },
    {
      "cell_type": "code",
      "execution_count": 4,
      "metadata": {
        "colab": {
          "base_uri": "https://localhost:8080/",
          "height": 450
        },
        "id": "ejsouXnxLPWg",
        "outputId": "6bef9140-da73-4d5f-c89b-41e412826dff"
      },
      "outputs": [
        {
          "data": {
            "text/html": [
              "<div>\n",
              "<style scoped>\n",
              "    .dataframe tbody tr th:only-of-type {\n",
              "        vertical-align: middle;\n",
              "    }\n",
              "\n",
              "    .dataframe tbody tr th {\n",
              "        vertical-align: top;\n",
              "    }\n",
              "\n",
              "    .dataframe thead th {\n",
              "        text-align: right;\n",
              "    }\n",
              "</style>\n",
              "<table border=\"1\" class=\"dataframe\">\n",
              "  <thead>\n",
              "    <tr style=\"text-align: right;\">\n",
              "      <th></th>\n",
              "      <th>Adj Close</th>\n",
              "    </tr>\n",
              "    <tr>\n",
              "      <th>Date</th>\n",
              "      <th></th>\n",
              "    </tr>\n",
              "  </thead>\n",
              "  <tbody>\n",
              "    <tr>\n",
              "      <th>2013-01-02</th>\n",
              "      <td>1974.84</td>\n",
              "    </tr>\n",
              "    <tr>\n",
              "      <th>2013-01-03</th>\n",
              "      <td>1982.16</td>\n",
              "    </tr>\n",
              "    <tr>\n",
              "      <th>2013-01-04</th>\n",
              "      <td>1995.46</td>\n",
              "    </tr>\n",
              "    <tr>\n",
              "      <th>2013-01-07</th>\n",
              "      <td>1985.48</td>\n",
              "    </tr>\n",
              "    <tr>\n",
              "      <th>2013-01-08</th>\n",
              "      <td>1995.46</td>\n",
              "    </tr>\n",
              "    <tr>\n",
              "      <th>...</th>\n",
              "      <td>...</td>\n",
              "    </tr>\n",
              "    <tr>\n",
              "      <th>2023-10-03</th>\n",
              "      <td>10908.00</td>\n",
              "    </tr>\n",
              "    <tr>\n",
              "      <th>2023-10-04</th>\n",
              "      <td>10892.00</td>\n",
              "    </tr>\n",
              "    <tr>\n",
              "      <th>2023-10-05</th>\n",
              "      <td>10902.00</td>\n",
              "    </tr>\n",
              "    <tr>\n",
              "      <th>2023-10-06</th>\n",
              "      <td>10942.00</td>\n",
              "    </tr>\n",
              "    <tr>\n",
              "      <th>2023-10-09</th>\n",
              "      <td>10856.00</td>\n",
              "    </tr>\n",
              "  </tbody>\n",
              "</table>\n",
              "<p>2721 rows × 1 columns</p>\n",
              "</div>"
            ],
            "text/plain": [
              "            Adj Close\n",
              "Date                 \n",
              "2013-01-02    1974.84\n",
              "2013-01-03    1982.16\n",
              "2013-01-04    1995.46\n",
              "2013-01-07    1985.48\n",
              "2013-01-08    1995.46\n",
              "...               ...\n",
              "2023-10-03   10908.00\n",
              "2023-10-04   10892.00\n",
              "2023-10-05   10902.00\n",
              "2023-10-06   10942.00\n",
              "2023-10-09   10856.00\n",
              "\n",
              "[2721 rows x 1 columns]"
            ]
          },
          "execution_count": 4,
          "metadata": {},
          "output_type": "execute_result"
        }
      ],
      "source": [
        "# Create Dataframe for Adjusted Close prices\n",
        "\n",
        "azn_adj = azn_df[['Adj Close']]\n",
        "azn_adj"
      ]
    },
    {
      "cell_type": "code",
      "execution_count": 6,
      "metadata": {
        "colab": {
          "base_uri": "https://localhost:8080/",
          "height": 544
        },
        "id": "HChYpqpCQfmO",
        "outputId": "c131a865-27db-4777-ce47-fdab2edcd0f9"
      },
      "outputs": [
        {
          "data": {
            "image/png": "[encoded data removed]",
            "text/plain": [
              "<Figure size 1500x900 with 1 Axes>"
            ]
          },
          "metadata": {},
          "output_type": "display_data"
        }
      ],
      "source": [
        "# Plot Adjusted Close price\n",
        "\n",
        "azn_df['Adj Close'].plot(grid = True)\n",
        "sns.set(rc={'figure.figsize':(18, 9)})\n",
        "plt.title('AZN.L Adjusted Close Price', color = 'black', fontsize = 20)\n",
        "plt.xlabel('Year', color = 'black', fontsize = 15)\n",
        "plt.ylabel('Stock price', color = 'black', fontsize = 15)"
      ]
    },
    {
      "cell_type": "markdown",
      "metadata": {
        "id": "8LbRjWqrJcY5"
      },
      "source": [
        "## 4. Feature engineering\n",
        "\n",
        "The Adjusted Close price will be used to create other features such as exponential moving averages for various time spans assigning a greater weight to the most recent price observations."
      ]
    },
    {
      "cell_type": "code",
      "execution_count": 7,
      "metadata": {
        "colab": {
          "base_uri": "https://localhost:8080/",
          "height": 450
        },
        "id": "rdm1_HIb5f0d",
        "outputId": "d8c099b0-21d9-47b7-8596-3c0a73194fa0"
      },
      "outputs": [
        {
          "data": {
            "text/html": [
              "<div>\n",
              "<style scoped>\n",
              "    .dataframe tbody tr th:only-of-type {\n",
              "        vertical-align: middle;\n",
              "    }\n",
              "\n",
              "    .dataframe tbody tr th {\n",
              "        vertical-align: top;\n",
              "    }\n",
              "\n",
              "    .dataframe thead th {\n",
              "        text-align: right;\n",
              "    }\n",
              "</style>\n",
              "<table border=\"1\" class=\"dataframe\">\n",
              "  <thead>\n",
              "    <tr style=\"text-align: right;\">\n",
              "      <th></th>\n",
              "      <th>Adj Close</th>\n",
              "      <th>ema50</th>\n",
              "      <th>ema21</th>\n",
              "      <th>ema15</th>\n",
              "      <th>ema5</th>\n",
              "    </tr>\n",
              "    <tr>\n",
              "      <th>Date</th>\n",
              "      <th></th>\n",
              "      <th></th>\n",
              "      <th></th>\n",
              "      <th></th>\n",
              "      <th></th>\n",
              "    </tr>\n",
              "  </thead>\n",
              "  <tbody>\n",
              "    <tr>\n",
              "      <th>2013-01-02</th>\n",
              "      <td>1974.84</td>\n",
              "      <td>1.000000</td>\n",
              "      <td>1.000000</td>\n",
              "      <td>1.000000</td>\n",
              "      <td>1.000000</td>\n",
              "    </tr>\n",
              "    <tr>\n",
              "      <th>2013-01-03</th>\n",
              "      <td>1982.16</td>\n",
              "      <td>1.001832</td>\n",
              "      <td>1.001807</td>\n",
              "      <td>1.001786</td>\n",
              "      <td>1.001681</td>\n",
              "    </tr>\n",
              "    <tr>\n",
              "      <th>2013-01-04</th>\n",
              "      <td>1995.46</td>\n",
              "      <td>1.005629</td>\n",
              "      <td>1.005536</td>\n",
              "      <td>1.005458</td>\n",
              "      <td>1.005062</td>\n",
              "    </tr>\n",
              "    <tr>\n",
              "      <th>2013-01-07</th>\n",
              "      <td>1985.48</td>\n",
              "      <td>1.000445</td>\n",
              "      <td>1.000371</td>\n",
              "      <td>1.000310</td>\n",
              "      <td>1.000024</td>\n",
              "    </tr>\n",
              "    <tr>\n",
              "      <th>2013-01-08</th>\n",
              "      <td>1995.46</td>\n",
              "      <td>1.004331</td>\n",
              "      <td>1.004212</td>\n",
              "      <td>1.004114</td>\n",
              "      <td>1.003638</td>\n",
              "    </tr>\n",
              "    <tr>\n",
              "      <th>...</th>\n",
              "      <td>...</td>\n",
              "      <td>...</td>\n",
              "      <td>...</td>\n",
              "      <td>...</td>\n",
              "      <td>...</td>\n",
              "    </tr>\n",
              "    <tr>\n",
              "      <th>2023-10-03</th>\n",
              "      <td>10908.00</td>\n",
              "      <td>0.996447</td>\n",
              "      <td>1.002664</td>\n",
              "      <td>1.001642</td>\n",
              "      <td>0.994119</td>\n",
              "    </tr>\n",
              "    <tr>\n",
              "      <th>2023-10-04</th>\n",
              "      <td>10892.00</td>\n",
              "      <td>0.995083</td>\n",
              "      <td>1.001139</td>\n",
              "      <td>1.000162</td>\n",
              "      <td>0.993876</td>\n",
              "    </tr>\n",
              "    <tr>\n",
              "      <th>2023-10-05</th>\n",
              "      <td>10902.00</td>\n",
              "      <td>0.996075</td>\n",
              "      <td>1.001964</td>\n",
              "      <td>1.001008</td>\n",
              "      <td>0.995654</td>\n",
              "    </tr>\n",
              "    <tr>\n",
              "      <th>2023-10-06</th>\n",
              "      <td>10942.00</td>\n",
              "      <td>0.999735</td>\n",
              "      <td>1.005383</td>\n",
              "      <td>1.004367</td>\n",
              "      <td>0.999422</td>\n",
              "    </tr>\n",
              "    <tr>\n",
              "      <th>2023-10-09</th>\n",
              "      <td>10856.00</td>\n",
              "      <td>0.992035</td>\n",
              "      <td>0.997595</td>\n",
              "      <td>0.996708</td>\n",
              "      <td>0.992963</td>\n",
              "    </tr>\n",
              "  </tbody>\n",
              "</table>\n",
              "<p>2721 rows × 5 columns</p>\n",
              "</div>"
            ],
            "text/plain": [
              "            Adj Close     ema50     ema21     ema15      ema5\n",
              "Date                                                         \n",
              "2013-01-02    1974.84  1.000000  1.000000  1.000000  1.000000\n",
              "2013-01-03    1982.16  1.001832  1.001807  1.001786  1.001681\n",
              "2013-01-04    1995.46  1.005629  1.005536  1.005458  1.005062\n",
              "2013-01-07    1985.48  1.000445  1.000371  1.000310  1.000024\n",
              "2013-01-08    1995.46  1.004331  1.004212  1.004114  1.003638\n",
              "...               ...       ...       ...       ...       ...\n",
              "2023-10-03   10908.00  0.996447  1.002664  1.001642  0.994119\n",
              "2023-10-04   10892.00  0.995083  1.001139  1.000162  0.993876\n",
              "2023-10-05   10902.00  0.996075  1.001964  1.001008  0.995654\n",
              "2023-10-06   10942.00  0.999735  1.005383  1.004367  0.999422\n",
              "2023-10-09   10856.00  0.992035  0.997595  0.996708  0.992963\n",
              "\n",
              "[2721 rows x 5 columns]"
            ]
          },
          "execution_count": 7,
          "metadata": {},
          "output_type": "execute_result"
        }
      ],
      "source": [
        "# Calculate moving averages for features\n",
        "\n",
        "azn_adj['ema50'] = azn_adj['Adj Close'] / azn_adj['Adj Close'].ewm(50).mean()\n",
        "azn_adj['ema21'] = azn_adj['Adj Close'] / azn_adj['Adj Close'].ewm(21).mean()\n",
        "azn_adj['ema15'] = azn_adj['Adj Close'] / azn_adj['Adj Close'].ewm(14).mean()\n",
        "azn_adj['ema5'] = azn_adj['Adj Close'] / azn_adj['Adj Close'].ewm(5).mean()\n",
        "\n",
        "azn_adj\n"
      ]
    },
    {
      "cell_type": "markdown",
      "metadata": {
        "id": "8zNvlA-rKfRz"
      },
      "source": [
        "We will also create a function for predicting 'n' days into the future to see if price has increased (1) or decreased (0)"
      ]
    },
    {
      "cell_type": "code",
      "execution_count": 8,
      "metadata": {
        "colab": {
          "base_uri": "https://localhost:8080/",
          "height": 450
        },
        "id": "pi38DPfkzRh3",
        "outputId": "0943fe33-1d57-403b-86fc-c45c5510cf7f"
      },
      "outputs": [
        {
          "data": {
            "text/html": [
              "<div>\n",
              "<style scoped>\n",
              "    .dataframe tbody tr th:only-of-type {\n",
              "        vertical-align: middle;\n",
              "    }\n",
              "\n",
              "    .dataframe tbody tr th {\n",
              "        vertical-align: top;\n",
              "    }\n",
              "\n",
              "    .dataframe thead th {\n",
              "        text-align: right;\n",
              "    }\n",
              "</style>\n",
              "<table border=\"1\" class=\"dataframe\">\n",
              "  <thead>\n",
              "    <tr style=\"text-align: right;\">\n",
              "      <th></th>\n",
              "      <th>ema50</th>\n",
              "      <th>ema21</th>\n",
              "      <th>ema15</th>\n",
              "      <th>ema5</th>\n",
              "      <th>n days ahead</th>\n",
              "      <th>Prediction</th>\n",
              "    </tr>\n",
              "    <tr>\n",
              "      <th>Date</th>\n",
              "      <th></th>\n",
              "      <th></th>\n",
              "      <th></th>\n",
              "      <th></th>\n",
              "      <th></th>\n",
              "      <th></th>\n",
              "    </tr>\n",
              "  </thead>\n",
              "  <tbody>\n",
              "    <tr>\n",
              "      <th>2013-01-02</th>\n",
              "      <td>1.000000</td>\n",
              "      <td>1.000000</td>\n",
              "      <td>1.000000</td>\n",
              "      <td>1.000000</td>\n",
              "      <td>1986.15</td>\n",
              "      <td>1.0</td>\n",
              "    </tr>\n",
              "    <tr>\n",
              "      <th>2013-01-03</th>\n",
              "      <td>1.001832</td>\n",
              "      <td>1.001807</td>\n",
              "      <td>1.001786</td>\n",
              "      <td>1.001681</td>\n",
              "      <td>1993.13</td>\n",
              "      <td>1.0</td>\n",
              "    </tr>\n",
              "    <tr>\n",
              "      <th>2013-01-04</th>\n",
              "      <td>1.005629</td>\n",
              "      <td>1.005536</td>\n",
              "      <td>1.005458</td>\n",
              "      <td>1.005062</td>\n",
              "      <td>2007.43</td>\n",
              "      <td>1.0</td>\n",
              "    </tr>\n",
              "    <tr>\n",
              "      <th>2013-01-07</th>\n",
              "      <td>1.000445</td>\n",
              "      <td>1.000371</td>\n",
              "      <td>1.000310</td>\n",
              "      <td>1.000024</td>\n",
              "      <td>2015.42</td>\n",
              "      <td>1.0</td>\n",
              "    </tr>\n",
              "    <tr>\n",
              "      <th>2013-01-08</th>\n",
              "      <td>1.004331</td>\n",
              "      <td>1.004212</td>\n",
              "      <td>1.004114</td>\n",
              "      <td>1.003638</td>\n",
              "      <td>2023.07</td>\n",
              "      <td>1.0</td>\n",
              "    </tr>\n",
              "    <tr>\n",
              "      <th>...</th>\n",
              "      <td>...</td>\n",
              "      <td>...</td>\n",
              "      <td>...</td>\n",
              "      <td>...</td>\n",
              "      <td>...</td>\n",
              "      <td>...</td>\n",
              "    </tr>\n",
              "    <tr>\n",
              "      <th>2023-09-26</th>\n",
              "      <td>1.020493</td>\n",
              "      <td>1.029499</td>\n",
              "      <td>1.029828</td>\n",
              "      <td>1.021160</td>\n",
              "      <td>10908.00</td>\n",
              "      <td>0.0</td>\n",
              "    </tr>\n",
              "    <tr>\n",
              "      <th>2023-09-27</th>\n",
              "      <td>1.015963</td>\n",
              "      <td>1.024082</td>\n",
              "      <td>1.023838</td>\n",
              "      <td>1.014087</td>\n",
              "      <td>10892.00</td>\n",
              "      <td>0.0</td>\n",
              "    </tr>\n",
              "    <tr>\n",
              "      <th>2023-09-28</th>\n",
              "      <td>1.005616</td>\n",
              "      <td>1.013131</td>\n",
              "      <td>1.012611</td>\n",
              "      <td>1.003224</td>\n",
              "      <td>10902.00</td>\n",
              "      <td>0.0</td>\n",
              "    </tr>\n",
              "    <tr>\n",
              "      <th>2023-09-29</th>\n",
              "      <td>1.014101</td>\n",
              "      <td>1.020949</td>\n",
              "      <td>1.019986</td>\n",
              "      <td>1.009959</td>\n",
              "      <td>10942.00</td>\n",
              "      <td>0.0</td>\n",
              "    </tr>\n",
              "    <tr>\n",
              "      <th>2023-10-02</th>\n",
              "      <td>1.000213</td>\n",
              "      <td>1.006652</td>\n",
              "      <td>1.005617</td>\n",
              "      <td>0.996774</td>\n",
              "      <td>10856.00</td>\n",
              "      <td>0.0</td>\n",
              "    </tr>\n",
              "  </tbody>\n",
              "</table>\n",
              "<p>2716 rows × 6 columns</p>\n",
              "</div>"
            ],
            "text/plain": [
              "               ema50     ema21     ema15      ema5  n days ahead  Prediction\n",
              "Date                                                                        \n",
              "2013-01-02  1.000000  1.000000  1.000000  1.000000       1986.15         1.0\n",
              "2013-01-03  1.001832  1.001807  1.001786  1.001681       1993.13         1.0\n",
              "2013-01-04  1.005629  1.005536  1.005458  1.005062       2007.43         1.0\n",
              "2013-01-07  1.000445  1.000371  1.000310  1.000024       2015.42         1.0\n",
              "2013-01-08  1.004331  1.004212  1.004114  1.003638       2023.07         1.0\n",
              "...              ...       ...       ...       ...           ...         ...\n",
              "2023-09-26  1.020493  1.029499  1.029828  1.021160      10908.00         0.0\n",
              "2023-09-27  1.015963  1.024082  1.023838  1.014087      10892.00         0.0\n",
              "2023-09-28  1.005616  1.013131  1.012611  1.003224      10902.00         0.0\n",
              "2023-09-29  1.014101  1.020949  1.019986  1.009959      10942.00         0.0\n",
              "2023-10-02  1.000213  1.006652  1.005617  0.996774      10856.00         0.0\n",
              "\n",
              "[2716 rows x 6 columns]"
            ]
          },
          "execution_count": 8,
          "metadata": {},
          "output_type": "execute_result"
        }
      ],
      "source": [
        "def buy_sell_pred(data, forecast_out):\n",
        "    \"\"\"\n",
        "    Function to produce the 'truth' values\n",
        "\n",
        "    :param data: historical stock data\n",
        "    :param forecast_out: Adjusted Close price is shifted 'n' days ahead \n",
        "                         to see if price has increased/Buy signal (1) or decreased/Sell signal (0) \n",
        "    :return: data with Prediction column containing Buy/Sell signal\n",
        "    \"\"\"\n",
        "    prediction = np.where(data.shift(-forecast_out)['Adj Close'] > data['Adj Close'], 1.0, 0.0)\n",
        "    data['n days ahead'] = data.shift(-forecast_out)['Adj Close']\n",
        "    data['Prediction'] = prediction\n",
        "\n",
        "    return data\n",
        "\n",
        "azn_adj = buy_sell_pred(azn_adj, forecast_out=5)\n",
        "del (azn_adj['Adj Close'])\n",
        "azn_adj = azn_adj.dropna()\n",
        "azn_adj"
      ]
    },
    {
      "cell_type": "code",
      "execution_count": 9,
      "metadata": {
        "colab": {
          "base_uri": "https://localhost:8080/",
          "height": 235
        },
        "id": "h0siPK0NwtI4",
        "outputId": "236ab28a-5b19-4ecf-d6cc-f8ca06d81a87"
      },
      "outputs": [
        {
          "data": {
            "text/html": [
              "<div>\n",
              "<style scoped>\n",
              "    .dataframe tbody tr th:only-of-type {\n",
              "        vertical-align: middle;\n",
              "    }\n",
              "\n",
              "    .dataframe tbody tr th {\n",
              "        vertical-align: top;\n",
              "    }\n",
              "\n",
              "    .dataframe thead th {\n",
              "        text-align: right;\n",
              "    }\n",
              "</style>\n",
              "<table border=\"1\" class=\"dataframe\">\n",
              "  <thead>\n",
              "    <tr style=\"text-align: right;\">\n",
              "      <th></th>\n",
              "      <th>ema50</th>\n",
              "      <th>ema21</th>\n",
              "      <th>ema15</th>\n",
              "      <th>ema5</th>\n",
              "      <th>n days ahead</th>\n",
              "      <th>Prediction</th>\n",
              "    </tr>\n",
              "    <tr>\n",
              "      <th>Date</th>\n",
              "      <th></th>\n",
              "      <th></th>\n",
              "      <th></th>\n",
              "      <th></th>\n",
              "      <th></th>\n",
              "      <th></th>\n",
              "    </tr>\n",
              "  </thead>\n",
              "  <tbody>\n",
              "    <tr>\n",
              "      <th>2013-01-03</th>\n",
              "      <td>1.001832</td>\n",
              "      <td>1.001807</td>\n",
              "      <td>1.001786</td>\n",
              "      <td>1.001681</td>\n",
              "      <td>1993.13</td>\n",
              "      <td>1.0</td>\n",
              "    </tr>\n",
              "    <tr>\n",
              "      <th>2013-01-04</th>\n",
              "      <td>1.005629</td>\n",
              "      <td>1.005536</td>\n",
              "      <td>1.005458</td>\n",
              "      <td>1.005062</td>\n",
              "      <td>2007.43</td>\n",
              "      <td>1.0</td>\n",
              "    </tr>\n",
              "    <tr>\n",
              "      <th>2013-01-07</th>\n",
              "      <td>1.000445</td>\n",
              "      <td>1.000371</td>\n",
              "      <td>1.000310</td>\n",
              "      <td>1.000024</td>\n",
              "      <td>2015.42</td>\n",
              "      <td>1.0</td>\n",
              "    </tr>\n",
              "    <tr>\n",
              "      <th>2013-01-08</th>\n",
              "      <td>1.004331</td>\n",
              "      <td>1.004212</td>\n",
              "      <td>1.004114</td>\n",
              "      <td>1.003638</td>\n",
              "      <td>2023.07</td>\n",
              "      <td>1.0</td>\n",
              "    </tr>\n",
              "    <tr>\n",
              "      <th>2013-01-09</th>\n",
              "      <td>0.999707</td>\n",
              "      <td>0.999615</td>\n",
              "      <td>0.999541</td>\n",
              "      <td>0.999217</td>\n",
              "      <td>2020.07</td>\n",
              "      <td>1.0</td>\n",
              "    </tr>\n",
              "  </tbody>\n",
              "</table>\n",
              "</div>"
            ],
            "text/plain": [
              "               ema50     ema21     ema15      ema5  n days ahead  Prediction\n",
              "Date                                                                        \n",
              "2013-01-03  1.001832  1.001807  1.001786  1.001681       1993.13         1.0\n",
              "2013-01-04  1.005629  1.005536  1.005458  1.005062       2007.43         1.0\n",
              "2013-01-07  1.000445  1.000371  1.000310  1.000024       2015.42         1.0\n",
              "2013-01-08  1.004331  1.004212  1.004114  1.003638       2023.07         1.0\n",
              "2013-01-09  0.999707  0.999615  0.999541  0.999217       2020.07         1.0"
            ]
          },
          "execution_count": 9,
          "metadata": {},
          "output_type": "execute_result"
        }
      ],
      "source": [
        "# Remove first row \n",
        "\n",
        "azn_adj = azn_adj.iloc[1:]\n",
        "azn_adj.head()"
      ]
    },
    {
      "cell_type": "code",
      "execution_count": 10,
      "metadata": {
        "colab": {
          "base_uri": "https://localhost:8080/"
        },
        "id": "Bci-0KNGVUni",
        "outputId": "1e5266c6-a0fe-41ae-e6ce-f8e77f6b2fcb"
      },
      "outputs": [
        {
          "data": {
            "text/plain": [
              "1.0    1475\n",
              "0.0    1240\n",
              "Name: Prediction, dtype: int64"
            ]
          },
          "execution_count": 10,
          "metadata": {},
          "output_type": "execute_result"
        }
      ],
      "source": [
        "# Number of bullish and bearish days\n",
        "\n",
        "azn_adj['Prediction'].value_counts()"
      ]
    },
    {
      "cell_type": "markdown",
      "metadata": {
        "id": "-8O85DkIQFeQ"
      },
      "source": [
        "## 5. Splitting the data\n",
        "\n",
        "The target variable (y) will be the Prediction column with the Buy/Sell signals."
      ]
    },
    {
      "cell_type": "code",
      "execution_count": 11,
      "metadata": {
        "id": "nkCF6guNT-T0"
      },
      "outputs": [],
      "source": [
        "X = azn_adj.drop(['Prediction'], 1)\n",
        "y = azn_adj.Prediction"
      ]
    },
    {
      "cell_type": "markdown",
      "metadata": {
        "id": "sxFp49YvR0U9"
      },
      "source": [
        "To avoid look-ahead bias when splitting time series data into training and test sets we will use sklearn's TimeSeriesSplit class. Successive training sets are supersets of those that come before them so that the model is not trained on data it has already seen. Randomised data rather than walk-forward validation would lead to overfitting."
      ]
    },
    {
      "cell_type": "code",
      "execution_count": 12,
      "metadata": {
        "id": "Qdh7bOJV-HVz"
      },
      "outputs": [],
      "source": [
        "tscv = TimeSeriesSplit(n_splits=3)"
      ]
    },
    {
      "cell_type": "code",
      "execution_count": 13,
      "metadata": {
        "colab": {
          "base_uri": "https://localhost:8080/"
        },
        "id": "YvEGnuUI-LIy",
        "outputId": "bbeacc0f-c271-40da-d02e-246d43b35daf"
      },
      "outputs": [
        {
          "name": "stdout",
          "output_type": "stream",
          "text": [
            "Train is from 2013-01-03 00:00:00 to 2015-09-11 00:00:00. \n",
            "Test is from 2015-09-14 00:00:00 to 2018-05-18 00:00:00. \n",
            "\n",
            "Train is from 2013-01-03 00:00:00 to 2018-05-18 00:00:00. \n",
            "Test is from 2018-05-21 00:00:00 to 2021-01-21 00:00:00. \n",
            "\n",
            "Train is from 2013-01-03 00:00:00 to 2021-01-21 00:00:00. \n",
            "Test is from 2021-01-22 00:00:00 to 2023-10-02 00:00:00. \n",
            "\n"
          ]
        }
      ],
      "source": [
        "for train_ind, test_ind in tscv.split(X):\n",
        "    # Split into training and test sets\n",
        "    X_train, X_test = X.iloc[train_ind], X.iloc[test_ind]\n",
        "    y_train, y_test = y.iloc[train_ind], y.iloc[test_ind]\n",
        "\n",
        "    print(f'Train is from {X.iloc[train_ind].index.min()} to {X.iloc[train_ind].index.max()}. ')\n",
        "    print(f'Test is from {X.iloc[test_ind].index.min()} to {X.iloc[test_ind].index.max()}. ')\n",
        "    print(\"\")"
      ]
    },
    {
      "cell_type": "code",
      "execution_count": 14,
      "metadata": {
        "colab": {
          "base_uri": "https://localhost:8080/"
        },
        "id": "KsJHxGuyT2mb",
        "outputId": "de79bc03-5bb5-45e7-b62f-421431529254"
      },
      "outputs": [
        {
          "name": "stdout",
          "output_type": "stream",
          "text": [
            "(2037, 5)\n",
            "(2037,)\n",
            "(678, 5)\n",
            "(678,)\n"
          ]
        }
      ],
      "source": [
        "print(X_train.shape)\n",
        "print(y_train.shape)\n",
        "print(X_test.shape)\n",
        "print(y_test.shape)"
      ]
    },
    {
      "cell_type": "markdown",
      "metadata": {
        "id": "KlGefnRLUh1c"
      },
      "source": [
        "## 6. Creating a pipeline\n",
        "\n",
        "A pipeline will be created for each of the ten models which scales the data using StandardScaler() before running the model using its default parameters."
      ]
    },
    {
      "cell_type": "code",
      "execution_count": 15,
      "metadata": {
        "id": "Ltpq5AICUJt8"
      },
      "outputs": [],
      "source": [
        "# Adaboost\n",
        "pipe_ada = Pipeline([('scale', StandardScaler()), ('clf', AdaBoostClassifier())])\n",
        "\n",
        "# Gradient Boost\n",
        "pipe_gb  = Pipeline([('scale', StandardScaler()), ('clf', GradientBoostingClassifier())])\n",
        "\n",
        "# Random Forest\n",
        "pipe_rf  = Pipeline([('scale', StandardScaler()), ('clf', RandomForestClassifier())])\n",
        "\n",
        "# Decision Tree\n",
        "pipe_dt  = Pipeline([('scale', StandardScaler()), ('clf', DecisionTreeClassifier())])\n",
        "\n",
        "# Dummy (Baseline)\n",
        "pipe_dum = Pipeline([('scale', StandardScaler()), ('clf', DummyClassifier())])\n",
        "\n",
        "# K Nearest Neighbors\n",
        "pipe_knn = Pipeline([('scale', StandardScaler()), ('clf', KNeighborsClassifier())])\n",
        "\n",
        "# Logistic Regression\n",
        "pipe_lr  = Pipeline([('scale', StandardScaler()), ('clf', LogisticRegression())])\n",
        "\n",
        "# Naive Bayes\n",
        "pipe_nb  = Pipeline([('scale', StandardScaler()), ('clf', GaussianNB())])\n",
        "\n",
        "# Support Vector Machine\n",
        "pipe_svm = Pipeline([('scale', StandardScaler()), ('clf', SVC())])\n",
        "\n",
        "# XGBoost\n",
        "pipe_xgb = Pipeline([('scale', StandardScaler()), ('clf', XGBClassifier())])"
      ]
    },
    {
      "cell_type": "markdown",
      "metadata": {
        "id": "mlBwtxCLV3Oj"
      },
      "source": [
        "A list of pipelines and model names will be used to create a dictionary."
      ]
    },
    {
      "cell_type": "code",
      "execution_count": 16,
      "metadata": {
        "id": "eGtwLxKrUNp7"
      },
      "outputs": [],
      "source": [
        "pipelines = [pipe_ada, pipe_gb, pipe_rf, pipe_dt, pipe_dum, \n",
        "             pipe_knn, pipe_lr, pipe_nb, pipe_svm, pipe_xgb]\n",
        "\n",
        "models = ['Adaboost', \n",
        "          'GradientBoost', \n",
        "          'RandomForest', \n",
        "          'DecisionTree', \n",
        "          'Dummy(Baseline)', \n",
        "          'KNN', \n",
        "          'LogisticRegression',\n",
        "          'NaiveBayes',\n",
        "          'SupportVectorMachine',\n",
        "          'XGBoost']\n",
        "\n",
        "# Zipping the strings and pipelines together and creating a dictionary\n",
        "model_pipelines = dict(zip(models, pipelines))"
      ]
    },
    {
      "cell_type": "markdown",
      "metadata": {
        "id": "Dbv4L5wCWvLD"
      },
      "source": [
        "### 6.1 Fit and train each model\n",
        "\n",
        "A loop will be created to iterate over each pipeline to fit and train each model to the training data."
      ]
    },
    {
      "cell_type": "code",
      "execution_count": 17,
      "metadata": {
        "colab": {
          "base_uri": "https://localhost:8080/"
        },
        "id": "hAxiaAFpUREg",
        "outputId": "f2f57582-32b8-42a0-9f91-3c1aee4be569"
      },
      "outputs": [
        {
          "name": "stdout",
          "output_type": "stream",
          "text": [
            "Pipeline(steps=[('scale', StandardScaler()), ('clf', AdaBoostClassifier())])\n",
            "Pipeline(steps=[('scale', StandardScaler()),\n",
            "                ('clf', GradientBoostingClassifier())])\n",
            "Pipeline(steps=[('scale', StandardScaler()), ('clf', RandomForestClassifier())])\n",
            "Pipeline(steps=[('scale', StandardScaler()), ('clf', DecisionTreeClassifier())])\n",
            "Pipeline(steps=[('scale', StandardScaler()), ('clf', DummyClassifier())])\n",
            "Pipeline(steps=[('scale', StandardScaler()), ('clf', KNeighborsClassifier())])\n",
            "Pipeline(steps=[('scale', StandardScaler()), ('clf', LogisticRegression())])\n",
            "Pipeline(steps=[('scale', StandardScaler()), ('clf', GaussianNB())])\n",
            "Pipeline(steps=[('scale', StandardScaler()), ('clf', SVC())])\n",
            "Pipeline(steps=[('scale', StandardScaler()),\n",
            "                ('clf',\n",
            "                 XGBClassifier(base_score=None, booster=None, callbacks=None,\n",
            "                               colsample_bylevel=None, colsample_bynode=None,\n",
            "                               colsample_bytree=None, device=None,\n",
            "                               early_stopping_rounds=None,\n",
            "                               enable_categorical=False, eval_metric=None,\n",
            "                               feature_types=None, gamma=None, grow_policy=None,\n",
            "                               importance_type=None,\n",
            "                               interaction_constraints=None, learning_rate=None,\n",
            "                               max_bin=None, max_cat_threshold=None,\n",
            "                               max_cat_to_onehot=None, max_delta_step=None,\n",
            "                               max_depth=None, max_leaves=None,\n",
            "                               min_child_weight=None, missing=nan,\n",
            "                               monotone_constraints=None, multi_strategy=None,\n",
            "                               n_estimators=None, n_jobs=None,\n",
            "                               num_parallel_tree=None, random_state=None, ...))])\n"
          ]
        }
      ],
      "source": [
        "# Looping through each Pipeline to fit and train each model\n",
        "for name, pipe in model_pipelines.items():\n",
        "    print(pipe)\n",
        "    pipe.fit(X_train, y_train)"
      ]
    },
    {
      "cell_type": "markdown",
      "metadata": {
        "id": "HUKmm_DkXsxN"
      },
      "source": [
        "### 6.2 Classification report\n",
        "\n",
        "A classification report for each model based on accuracy score will be produced and the top three models listed in descending order."
      ]
    },
    {
      "cell_type": "code",
      "execution_count": 18,
      "metadata": {
        "colab": {
          "base_uri": "https://localhost:8080/"
        },
        "id": "gH7ZMQ_w_u_5",
        "outputId": "d46f2f09-62c0-4c20-f3c1-5b0d7fa0fd25"
      },
      "outputs": [
        {
          "name": "stdout",
          "output_type": "stream",
          "text": [
            "\n",
            "Adaboost (Accuracy Score):\n",
            "0.5678466076696165\n",
            "\n",
            "GradientBoost (Accuracy Score):\n",
            "0.5766961651917404\n",
            "\n",
            "RandomForest (Accuracy Score):\n",
            "0.5501474926253688\n",
            "\n",
            "DecisionTree (Accuracy Score):\n",
            "0.49557522123893805\n",
            "\n",
            "Dummy(Baseline) (Accuracy Score):\n",
            "0.556047197640118\n",
            "\n",
            "KNN (Accuracy Score):\n",
            "0.523598820058997\n",
            "\n",
            "LogisticRegression (Accuracy Score):\n",
            "0.5825958702064897\n",
            "\n",
            "NaiveBayes (Accuracy Score):\n",
            "0.4882005899705015\n",
            "\n",
            "SupportVectorMachine (Accuracy Score):\n",
            "0.5442477876106194\n",
            "\n",
            "XGBoost (Accuracy Score):\n",
            "0.5619469026548672\n"
          ]
        }
      ],
      "source": [
        "# Dictionary containing the model names and their scores \n",
        "models_acc = {}\n",
        "\n",
        "# Looping through each model's predictions and getting their classification reports\n",
        "for name, pipe in model_pipelines.items():\n",
        "    print('\\n'+ name + ' (Accuracy Score):')\n",
        "    \n",
        "    # Classification Report\n",
        "    report = classification_report(y_test, pipe.predict(X_test), target_names=['Sell', 'Buy'], output_dict=True)\n",
        "    acc = report['accuracy']\n",
        "    \n",
        "    # Assigning to the Dictionary\n",
        "    models_acc[name] = acc\n",
        "    \n",
        "    print(acc) "
      ]
    },
    {
      "cell_type": "code",
      "execution_count": 19,
      "metadata": {
        "colab": {
          "base_uri": "https://localhost:8080/"
        },
        "id": "uWjNoF1gw_ZQ",
        "outputId": "160e3ba5-45c3-4008-dad9-aa7072cbd216"
      },
      "outputs": [
        {
          "name": "stdout",
          "output_type": "stream",
          "text": [
            "LogisticRegression 0.5825958702064897\n",
            "GradientBoost 0.5766961651917404\n",
            "Adaboost 0.5678466076696165\n"
          ]
        }
      ],
      "source": [
        "# Finding the Top 3 Models\n",
        "for i in sorted(models_acc, key=models_acc.get, reverse=True)[:3]:\n",
        "    print(i, models_acc[i])"
      ]
    },
    {
      "cell_type": "markdown",
      "metadata": {
        "id": "tkwtAqmJ1P1j"
      },
      "source": [
        "## 7. Tune hyperparameters\n",
        "\n",
        "We can now optimise the top three models by creating a list of parameters with various values to iterate through in search of the best combinations."
      ]
    },
    {
      "cell_type": "code",
      "execution_count": 20,
      "metadata": {
        "id": "jU5D35dm8cRo"
      },
      "outputs": [],
      "source": [
        "# Creating parameters to iterate through for each classifier\n",
        "\n",
        "nb_params = {\"clf__var_smoothing\": [1e-2, 1e-3, 1e-4, 1e-5, 1e-6, 1e-7, 1e-8, 1e-9, 1e-10, 1e-11, 1e-12, 1e-13, 1e-14, 1e-15]}\n",
        "\n",
        "gb_params = {\"clf__n_estimators\":[5,50,250,500],\n",
        "             \"clf__max_depth\":[1,3,5,7,9],\n",
        "             \"clf__learning_rate\":[0.01,0.1,1,10,100]}\n",
        "\n",
        "ada_params = {'clf__n_estimators': np.arange(10,300,10), #[50, 100],\n",
        "              'clf__learning_rate': [0.01,0.05,0.1,0.3,1]}"
      ]
    },
    {
      "cell_type": "markdown",
      "metadata": {
        "id": "xL62AgQ43Z0a"
      },
      "source": [
        "Next we need to create a dictionary of the pipeline and parameters for each model."
      ]
    },
    {
      "cell_type": "code",
      "execution_count": 21,
      "metadata": {
        "id": "ZZEvlec3nHAp"
      },
      "outputs": [],
      "source": [
        "# Creating a dictionary for the top 3 classifiers with their respective parameters\n",
        "\n",
        "top3 = {'NaiveBayes': [pipe_nb, nb_params],\n",
        "        'GradientBoost': [pipe_gb, gb_params],\n",
        "        'AdaBoost': [pipe_ada, ada_params]}"
      ]
    },
    {
      "cell_type": "markdown",
      "metadata": {
        "id": "qVfo_KJH3ki0"
      },
      "source": [
        "### 7.1 Grid search\n",
        "\n",
        "Now we can grid search all possible combinations of the parameters to find the best parameters for each model and save the best performing model to a dictionary."
      ]
    },
    {
      "cell_type": "code",
      "execution_count": 22,
      "metadata": {
        "colab": {
          "base_uri": "https://localhost:8080/"
        },
        "id": "fXwvpEM904rW",
        "outputId": "85c89cb1-25d0-481d-afc9-d652bccf4576"
      },
      "outputs": [
        {
          "name": "stdout",
          "output_type": "stream",
          "text": [
            "NaiveBayes - - - - - - - - - - - - - - - - - - - - - - - - - - - - - -\n",
            "Fitting 3 folds for each of 14 candidates, totalling 42 fits\n",
            "[CV] END ............................clf__var_smoothing=0.01; total time=   0.0s\n",
            "[CV] END ............................clf__var_smoothing=0.01; total time=   0.0s\n",
            "[CV] END ............................clf__var_smoothing=0.01; total time=   0.0s\n",
            "[CV] END ...........................clf__var_smoothing=0.001; total time=   0.0s\n",
            "[CV] END ...........................clf__var_smoothing=0.001; total time=   0.0s\n",
            "[CV] END ...........................clf__var_smoothing=0.001; total time=   0.0s\n",
            "[CV] END ..........................clf__var_smoothing=0.0001; total time=   0.0s\n",
            "[CV] END ..........................clf__var_smoothing=0.0001; total time=   0.0s\n",
            "[CV] END ..........................clf__var_smoothing=0.0001; total time=   0.0s\n",
            "[CV] END ...........................clf__var_smoothing=1e-05; total time=   0.0s\n",
            "[CV] END ...........................clf__var_smoothing=1e-05; total time=   0.0s\n",
            "[CV] END ...........................clf__var_smoothing=1e-05; total time=   0.0s\n",
            "[CV] END ...........................clf__var_smoothing=1e-06; total time=   0.0s\n",
            "[CV] END ...........................clf__var_smoothing=1e-06; total time=   0.0s\n",
            "[CV] END ...........................clf__var_smoothing=1e-06; total time=   0.0s\n",
            "[CV] END ...........................clf__var_smoothing=1e-07; total time=   0.0s\n",
            "[CV] END ...........................clf__var_smoothing=1e-07; total time=   0.0s\n",
            "[CV] END ...........................clf__var_smoothing=1e-07; total time=   0.0s\n",
            "[CV] END ...........................clf__var_smoothing=1e-08; total time=   0.0s\n",
            "[CV] END ...........................clf__var_smoothing=1e-08; total time=   0.0s\n",
            "[CV] END ...........................clf__var_smoothing=1e-08; total time=   0.0s\n",
            "[CV] END ...........................clf__var_smoothing=1e-09; total time=   0.0s\n",
            "[CV] END ...........................clf__var_smoothing=1e-09; total time=   0.0s\n",
            "[CV] END ...........................clf__var_smoothing=1e-09; total time=   0.0s\n",
            "[CV] END ...........................clf__var_smoothing=1e-10; total time=   0.0s\n",
            "[CV] END ...........................clf__var_smoothing=1e-10; total time=   0.0s\n",
            "[CV] END ...........................clf__var_smoothing=1e-10; total time=   0.0s\n",
            "[CV] END ...........................clf__var_smoothing=1e-11; total time=   0.0s\n",
            "[CV] END ...........................clf__var_smoothing=1e-11; total time=   0.0s\n",
            "[CV] END ...........................clf__var_smoothing=1e-11; total time=   0.0s\n",
            "[CV] END ...........................clf__var_smoothing=1e-12; total time=   0.0s\n",
            "[CV] END ...........................clf__var_smoothing=1e-12; total time=   0.0s\n",
            "[CV] END ...........................clf__var_smoothing=1e-12; total time=   0.0s\n",
            "[CV] END ...........................clf__var_smoothing=1e-13; total time=   0.0s\n",
            "[CV] END ...........................clf__var_smoothing=1e-13; total time=   0.0s\n",
            "[CV] END ...........................clf__var_smoothing=1e-13; total time=   0.0s\n",
            "[CV] END ...........................clf__var_smoothing=1e-14; total time=   0.0s\n",
            "[CV] END ...........................clf__var_smoothing=1e-14; total time=   0.0s\n",
            "[CV] END ...........................clf__var_smoothing=1e-14; total time=   0.0s\n",
            "[CV] END ...........................clf__var_smoothing=1e-15; total time=   0.0s\n",
            "[CV] END ...........................clf__var_smoothing=1e-15; total time=   0.0s\n",
            "[CV] END ...........................clf__var_smoothing=1e-15; total time=   0.0s\n",
            "NaiveBayes Best Parameters:  {'clf__var_smoothing': 0.001}\n",
            "GradientBoost - - - - - - - - - - - - - - - - - - - - - - - - - - - - - -\n",
            "Fitting 3 folds for each of 100 candidates, totalling 300 fits\n",
            "[CV] END clf__learning_rate=0.01, clf__max_depth=1, clf__n_estimators=5; total time=   0.0s\n",
            "[CV] END clf__learning_rate=0.01, clf__max_depth=1, clf__n_estimators=5; total time=   0.0s\n",
            "[CV] END clf__learning_rate=0.01, clf__max_depth=1, clf__n_estimators=5; total time=   0.0s\n",
            "[CV] END clf__learning_rate=0.01, clf__max_depth=1, clf__n_estimators=50; total time=   0.0s\n",
            "[CV] END clf__learning_rate=0.01, clf__max_depth=1, clf__n_estimators=50; total time=   0.1s\n",
            "[CV] END clf__learning_rate=0.01, clf__max_depth=1, clf__n_estimators=50; total time=   0.1s\n",
            "[CV] END clf__learning_rate=0.01, clf__max_depth=1, clf__n_estimators=250; total time=   0.2s\n",
            "[CV] END clf__learning_rate=0.01, clf__max_depth=1, clf__n_estimators=250; total time=   0.3s\n",
            "[CV] END clf__learning_rate=0.01, clf__max_depth=1, clf__n_estimators=250; total time=   0.4s\n",
            "[CV] END clf__learning_rate=0.01, clf__max_depth=1, clf__n_estimators=500; total time=   0.4s\n",
            "[CV] END clf__learning_rate=0.01, clf__max_depth=1, clf__n_estimators=500; total time=   0.6s\n",
            "[CV] END clf__learning_rate=0.01, clf__max_depth=1, clf__n_estimators=500; total time=   0.7s\n",
            "[CV] END clf__learning_rate=0.01, clf__max_depth=3, clf__n_estimators=5; total time=   0.0s\n",
            "[CV] END clf__learning_rate=0.01, clf__max_depth=3, clf__n_estimators=5; total time=   0.0s\n",
            "[CV] END clf__learning_rate=0.01, clf__max_depth=3, clf__n_estimators=5; total time=   0.0s\n",
            "[CV] END clf__learning_rate=0.01, clf__max_depth=3, clf__n_estimators=50; total time=   0.1s\n",
            "[CV] END clf__learning_rate=0.01, clf__max_depth=3, clf__n_estimators=50; total time=   0.1s\n",
            "[CV] END clf__learning_rate=0.01, clf__max_depth=3, clf__n_estimators=50; total time=   0.2s\n",
            "[CV] END clf__learning_rate=0.01, clf__max_depth=3, clf__n_estimators=250; total time=   0.4s\n",
            "[CV] END clf__learning_rate=0.01, clf__max_depth=3, clf__n_estimators=250; total time=   0.6s\n",
            "[CV] END clf__learning_rate=0.01, clf__max_depth=3, clf__n_estimators=250; total time=   0.8s\n",
            "[CV] END clf__learning_rate=0.01, clf__max_depth=3, clf__n_estimators=500; total time=   0.7s\n",
            "[CV] END clf__learning_rate=0.01, clf__max_depth=3, clf__n_estimators=500; total time=   1.2s\n",
            "[CV] END clf__learning_rate=0.01, clf__max_depth=3, clf__n_estimators=500; total time=   1.7s\n",
            "[CV] END clf__learning_rate=0.01, clf__max_depth=5, clf__n_estimators=5; total time=   0.0s\n",
            "[CV] END clf__learning_rate=0.01, clf__max_depth=5, clf__n_estimators=5; total time=   0.0s\n",
            "[CV] END clf__learning_rate=0.01, clf__max_depth=5, clf__n_estimators=5; total time=   0.0s\n",
            "[CV] END clf__learning_rate=0.01, clf__max_depth=5, clf__n_estimators=50; total time=   0.1s\n",
            "[CV] END clf__learning_rate=0.01, clf__max_depth=5, clf__n_estimators=50; total time=   0.2s\n",
            "[CV] END clf__learning_rate=0.01, clf__max_depth=5, clf__n_estimators=50; total time=   0.3s\n",
            "[CV] END clf__learning_rate=0.01, clf__max_depth=5, clf__n_estimators=250; total time=   0.6s\n",
            "[CV] END clf__learning_rate=0.01, clf__max_depth=5, clf__n_estimators=250; total time=   0.9s\n",
            "[CV] END clf__learning_rate=0.01, clf__max_depth=5, clf__n_estimators=250; total time=   1.3s\n",
            "[CV] END clf__learning_rate=0.01, clf__max_depth=5, clf__n_estimators=500; total time=   1.1s\n",
            "[CV] END clf__learning_rate=0.01, clf__max_depth=5, clf__n_estimators=500; total time=   1.9s\n",
            "[CV] END clf__learning_rate=0.01, clf__max_depth=5, clf__n_estimators=500; total time=   2.6s\n",
            "[CV] END clf__learning_rate=0.01, clf__max_depth=7, clf__n_estimators=5; total time=   0.0s\n",
            "[CV] END clf__learning_rate=0.01, clf__max_depth=7, clf__n_estimators=5; total time=   0.0s\n",
            "[CV] END clf__learning_rate=0.01, clf__max_depth=7, clf__n_estimators=5; total time=   0.0s\n",
            "[CV] END clf__learning_rate=0.01, clf__max_depth=7, clf__n_estimators=50; total time=   0.2s\n",
            "[CV] END clf__learning_rate=0.01, clf__max_depth=7, clf__n_estimators=50; total time=   0.3s\n",
            "[CV] END clf__learning_rate=0.01, clf__max_depth=7, clf__n_estimators=50; total time=   0.4s\n",
            "[CV] END clf__learning_rate=0.01, clf__max_depth=7, clf__n_estimators=250; total time=   0.8s\n",
            "[CV] END clf__learning_rate=0.01, clf__max_depth=7, clf__n_estimators=250; total time=   1.4s\n",
            "[CV] END clf__learning_rate=0.01, clf__max_depth=7, clf__n_estimators=250; total time=   2.0s\n",
            "[CV] END clf__learning_rate=0.01, clf__max_depth=7, clf__n_estimators=500; total time=   1.7s\n",
            "[CV] END clf__learning_rate=0.01, clf__max_depth=7, clf__n_estimators=500; total time=   2.8s\n",
            "[CV] END clf__learning_rate=0.01, clf__max_depth=7, clf__n_estimators=500; total time=   3.9s\n",
            "[CV] END clf__learning_rate=0.01, clf__max_depth=9, clf__n_estimators=5; total time=   0.0s\n",
            "[CV] END clf__learning_rate=0.01, clf__max_depth=9, clf__n_estimators=5; total time=   0.0s\n",
            "[CV] END clf__learning_rate=0.01, clf__max_depth=9, clf__n_estimators=5; total time=   0.1s\n",
            "[CV] END clf__learning_rate=0.01, clf__max_depth=9, clf__n_estimators=50; total time=   0.2s\n",
            "[CV] END clf__learning_rate=0.01, clf__max_depth=9, clf__n_estimators=50; total time=   0.4s\n",
            "[CV] END clf__learning_rate=0.01, clf__max_depth=9, clf__n_estimators=50; total time=   0.5s\n",
            "[CV] END clf__learning_rate=0.01, clf__max_depth=9, clf__n_estimators=250; total time=   1.1s\n",
            "[CV] END clf__learning_rate=0.01, clf__max_depth=9, clf__n_estimators=250; total time=   2.1s\n",
            "[CV] END clf__learning_rate=0.01, clf__max_depth=9, clf__n_estimators=250; total time=   2.8s\n",
            "[CV] END clf__learning_rate=0.01, clf__max_depth=9, clf__n_estimators=500; total time=   2.4s\n",
            "[CV] END clf__learning_rate=0.01, clf__max_depth=9, clf__n_estimators=500; total time=   4.0s\n",
            "[CV] END clf__learning_rate=0.01, clf__max_depth=9, clf__n_estimators=500; total time=   5.5s\n",
            "[CV] END clf__learning_rate=0.1, clf__max_depth=1, clf__n_estimators=5; total time=   0.0s\n",
            "[CV] END clf__learning_rate=0.1, clf__max_depth=1, clf__n_estimators=5; total time=   0.0s\n",
            "[CV] END clf__learning_rate=0.1, clf__max_depth=1, clf__n_estimators=5; total time=   0.0s\n",
            "[CV] END clf__learning_rate=0.1, clf__max_depth=1, clf__n_estimators=50; total time=   0.0s\n",
            "[CV] END clf__learning_rate=0.1, clf__max_depth=1, clf__n_estimators=50; total time=   0.1s\n",
            "[CV] END clf__learning_rate=0.1, clf__max_depth=1, clf__n_estimators=50; total time=   0.1s\n",
            "[CV] END clf__learning_rate=0.1, clf__max_depth=1, clf__n_estimators=250; total time=   0.2s\n",
            "[CV] END clf__learning_rate=0.1, clf__max_depth=1, clf__n_estimators=250; total time=   0.3s\n",
            "[CV] END clf__learning_rate=0.1, clf__max_depth=1, clf__n_estimators=250; total time=   0.4s\n",
            "[CV] END clf__learning_rate=0.1, clf__max_depth=1, clf__n_estimators=500; total time=   0.4s\n",
            "[CV] END clf__learning_rate=0.1, clf__max_depth=1, clf__n_estimators=500; total time=   0.5s\n",
            "[CV] END clf__learning_rate=0.1, clf__max_depth=1, clf__n_estimators=500; total time=   0.7s\n",
            "[CV] END clf__learning_rate=0.1, clf__max_depth=3, clf__n_estimators=5; total time=   0.0s\n",
            "[CV] END clf__learning_rate=0.1, clf__max_depth=3, clf__n_estimators=5; total time=   0.0s\n",
            "[CV] END clf__learning_rate=0.1, clf__max_depth=3, clf__n_estimators=5; total time=   0.0s\n",
            "[CV] END clf__learning_rate=0.1, clf__max_depth=3, clf__n_estimators=50; total time=   0.1s\n",
            "[CV] END clf__learning_rate=0.1, clf__max_depth=3, clf__n_estimators=50; total time=   0.1s\n",
            "[CV] END clf__learning_rate=0.1, clf__max_depth=3, clf__n_estimators=50; total time=   0.2s\n",
            "[CV] END clf__learning_rate=0.1, clf__max_depth=3, clf__n_estimators=250; total time=   0.4s\n",
            "[CV] END clf__learning_rate=0.1, clf__max_depth=3, clf__n_estimators=250; total time=   0.6s\n",
            "[CV] END clf__learning_rate=0.1, clf__max_depth=3, clf__n_estimators=250; total time=   0.8s\n",
            "[CV] END clf__learning_rate=0.1, clf__max_depth=3, clf__n_estimators=500; total time=   0.7s\n",
            "[CV] END clf__learning_rate=0.1, clf__max_depth=3, clf__n_estimators=500; total time=   1.2s\n",
            "[CV] END clf__learning_rate=0.1, clf__max_depth=3, clf__n_estimators=500; total time=   1.7s\n",
            "[CV] END clf__learning_rate=0.1, clf__max_depth=5, clf__n_estimators=5; total time=   0.0s\n",
            "[CV] END clf__learning_rate=0.1, clf__max_depth=5, clf__n_estimators=5; total time=   0.0s\n",
            "[CV] END clf__learning_rate=0.1, clf__max_depth=5, clf__n_estimators=5; total time=   0.0s\n",
            "[CV] END clf__learning_rate=0.1, clf__max_depth=5, clf__n_estimators=50; total time=   0.1s\n",
            "[CV] END clf__learning_rate=0.1, clf__max_depth=5, clf__n_estimators=50; total time=   0.2s\n",
            "[CV] END clf__learning_rate=0.1, clf__max_depth=5, clf__n_estimators=50; total time=   0.3s\n",
            "[CV] END clf__learning_rate=0.1, clf__max_depth=5, clf__n_estimators=250; total time=   0.6s\n",
            "[CV] END clf__learning_rate=0.1, clf__max_depth=5, clf__n_estimators=250; total time=   0.9s\n",
            "[CV] END clf__learning_rate=0.1, clf__max_depth=5, clf__n_estimators=250; total time=   1.4s\n",
            "[CV] END clf__learning_rate=0.1, clf__max_depth=5, clf__n_estimators=500; total time=   1.3s\n",
            "[CV] END clf__learning_rate=0.1, clf__max_depth=5, clf__n_estimators=500; total time=   2.0s\n",
            "[CV] END clf__learning_rate=0.1, clf__max_depth=5, clf__n_estimators=500; total time=   2.7s\n",
            "[CV] END clf__learning_rate=0.1, clf__max_depth=7, clf__n_estimators=5; total time=   0.0s\n",
            "[CV] END clf__learning_rate=0.1, clf__max_depth=7, clf__n_estimators=5; total time=   0.0s\n",
            "[CV] END clf__learning_rate=0.1, clf__max_depth=7, clf__n_estimators=5; total time=   0.0s\n",
            "[CV] END clf__learning_rate=0.1, clf__max_depth=7, clf__n_estimators=50; total time=   0.2s\n",
            "[CV] END clf__learning_rate=0.1, clf__max_depth=7, clf__n_estimators=50; total time=   0.3s\n",
            "[CV] END clf__learning_rate=0.1, clf__max_depth=7, clf__n_estimators=50; total time=   0.4s\n",
            "[CV] END clf__learning_rate=0.1, clf__max_depth=7, clf__n_estimators=250; total time=   0.8s\n",
            "[CV] END clf__learning_rate=0.1, clf__max_depth=7, clf__n_estimators=250; total time=   1.4s\n",
            "[CV] END clf__learning_rate=0.1, clf__max_depth=7, clf__n_estimators=250; total time=   1.9s\n",
            "[CV] END clf__learning_rate=0.1, clf__max_depth=7, clf__n_estimators=500; total time=   1.7s\n",
            "[CV] END clf__learning_rate=0.1, clf__max_depth=7, clf__n_estimators=500; total time=   2.8s\n",
            "[CV] END clf__learning_rate=0.1, clf__max_depth=7, clf__n_estimators=500; total time=   3.8s\n",
            "[CV] END clf__learning_rate=0.1, clf__max_depth=9, clf__n_estimators=5; total time=   0.0s\n",
            "[CV] END clf__learning_rate=0.1, clf__max_depth=9, clf__n_estimators=5; total time=   0.0s\n",
            "[CV] END clf__learning_rate=0.1, clf__max_depth=9, clf__n_estimators=5; total time=   0.1s\n",
            "[CV] END clf__learning_rate=0.1, clf__max_depth=9, clf__n_estimators=50; total time=   0.2s\n",
            "[CV] END clf__learning_rate=0.1, clf__max_depth=9, clf__n_estimators=50; total time=   0.4s\n",
            "[CV] END clf__learning_rate=0.1, clf__max_depth=9, clf__n_estimators=50; total time=   0.5s\n",
            "[CV] END clf__learning_rate=0.1, clf__max_depth=9, clf__n_estimators=250; total time=   1.2s\n",
            "[CV] END clf__learning_rate=0.1, clf__max_depth=9, clf__n_estimators=250; total time=   1.9s\n",
            "[CV] END clf__learning_rate=0.1, clf__max_depth=9, clf__n_estimators=250; total time=   2.7s\n",
            "[CV] END clf__learning_rate=0.1, clf__max_depth=9, clf__n_estimators=500; total time=   2.1s\n",
            "[CV] END clf__learning_rate=0.1, clf__max_depth=9, clf__n_estimators=500; total time=   3.9s\n",
            "[CV] END clf__learning_rate=0.1, clf__max_depth=9, clf__n_estimators=500; total time=   5.3s\n",
            "[CV] END clf__learning_rate=1, clf__max_depth=1, clf__n_estimators=5; total time=   0.0s\n",
            "[CV] END clf__learning_rate=1, clf__max_depth=1, clf__n_estimators=5; total time=   0.0s\n",
            "[CV] END clf__learning_rate=1, clf__max_depth=1, clf__n_estimators=5; total time=   0.0s\n",
            "[CV] END clf__learning_rate=1, clf__max_depth=1, clf__n_estimators=50; total time=   0.0s\n",
            "[CV] END clf__learning_rate=1, clf__max_depth=1, clf__n_estimators=50; total time=   0.1s\n",
            "[CV] END clf__learning_rate=1, clf__max_depth=1, clf__n_estimators=50; total time=   0.1s\n",
            "[CV] END clf__learning_rate=1, clf__max_depth=1, clf__n_estimators=250; total time=   0.2s\n",
            "[CV] END clf__learning_rate=1, clf__max_depth=1, clf__n_estimators=250; total time=   0.3s\n",
            "[CV] END clf__learning_rate=1, clf__max_depth=1, clf__n_estimators=250; total time=   0.4s\n",
            "[CV] END clf__learning_rate=1, clf__max_depth=1, clf__n_estimators=500; total time=   0.4s\n",
            "[CV] END clf__learning_rate=1, clf__max_depth=1, clf__n_estimators=500; total time=   0.6s\n",
            "[CV] END clf__learning_rate=1, clf__max_depth=1, clf__n_estimators=500; total time=   0.7s\n",
            "[CV] END clf__learning_rate=1, clf__max_depth=3, clf__n_estimators=5; total time=   0.0s\n",
            "[CV] END clf__learning_rate=1, clf__max_depth=3, clf__n_estimators=5; total time=   0.0s\n",
            "[CV] END clf__learning_rate=1, clf__max_depth=3, clf__n_estimators=5; total time=   0.0s\n",
            "[CV] END clf__learning_rate=1, clf__max_depth=3, clf__n_estimators=50; total time=   0.1s\n",
            "[CV] END clf__learning_rate=1, clf__max_depth=3, clf__n_estimators=50; total time=   0.1s\n",
            "[CV] END clf__learning_rate=1, clf__max_depth=3, clf__n_estimators=50; total time=   0.2s\n",
            "[CV] END clf__learning_rate=1, clf__max_depth=3, clf__n_estimators=250; total time=   0.4s\n",
            "[CV] END clf__learning_rate=1, clf__max_depth=3, clf__n_estimators=250; total time=   0.6s\n",
            "[CV] END clf__learning_rate=1, clf__max_depth=3, clf__n_estimators=250; total time=   0.8s\n",
            "[CV] END clf__learning_rate=1, clf__max_depth=3, clf__n_estimators=500; total time=   0.6s\n",
            "[CV] END clf__learning_rate=1, clf__max_depth=3, clf__n_estimators=500; total time=   1.2s\n",
            "[CV] END clf__learning_rate=1, clf__max_depth=3, clf__n_estimators=500; total time=   1.7s\n",
            "[CV] END clf__learning_rate=1, clf__max_depth=5, clf__n_estimators=5; total time=   0.0s\n",
            "[CV] END clf__learning_rate=1, clf__max_depth=5, clf__n_estimators=5; total time=   0.0s\n",
            "[CV] END clf__learning_rate=1, clf__max_depth=5, clf__n_estimators=5; total time=   0.0s\n",
            "[CV] END clf__learning_rate=1, clf__max_depth=5, clf__n_estimators=50; total time=   0.1s\n",
            "[CV] END clf__learning_rate=1, clf__max_depth=5, clf__n_estimators=50; total time=   0.2s\n",
            "[CV] END clf__learning_rate=1, clf__max_depth=5, clf__n_estimators=50; total time=   0.3s\n",
            "[CV] END clf__learning_rate=1, clf__max_depth=5, clf__n_estimators=250; total time=   0.4s\n",
            "[CV] END clf__learning_rate=1, clf__max_depth=5, clf__n_estimators=250; total time=   0.9s\n",
            "[CV] END clf__learning_rate=1, clf__max_depth=5, clf__n_estimators=250; total time=   1.4s\n",
            "[CV] END clf__learning_rate=1, clf__max_depth=5, clf__n_estimators=500; total time=   0.5s\n",
            "[CV] END clf__learning_rate=1, clf__max_depth=5, clf__n_estimators=500; total time=   1.2s\n",
            "[CV] END clf__learning_rate=1, clf__max_depth=5, clf__n_estimators=500; total time=   2.3s\n",
            "[CV] END clf__learning_rate=1, clf__max_depth=7, clf__n_estimators=5; total time=   0.0s\n",
            "[CV] END clf__learning_rate=1, clf__max_depth=7, clf__n_estimators=5; total time=   0.0s\n",
            "[CV] END clf__learning_rate=1, clf__max_depth=7, clf__n_estimators=5; total time=   0.0s\n",
            "[CV] END clf__learning_rate=1, clf__max_depth=7, clf__n_estimators=50; total time=   0.2s\n",
            "[CV] END clf__learning_rate=1, clf__max_depth=7, clf__n_estimators=50; total time=   0.3s\n",
            "[CV] END clf__learning_rate=1, clf__max_depth=7, clf__n_estimators=50; total time=   0.4s\n",
            "[CV] END clf__learning_rate=1, clf__max_depth=7, clf__n_estimators=250; total time=   0.3s\n",
            "[CV] END clf__learning_rate=1, clf__max_depth=7, clf__n_estimators=250; total time=   0.7s\n",
            "[CV] END clf__learning_rate=1, clf__max_depth=7, clf__n_estimators=250; total time=   1.5s\n",
            "[CV] END clf__learning_rate=1, clf__max_depth=7, clf__n_estimators=500; total time=   0.4s\n",
            "[CV] END clf__learning_rate=1, clf__max_depth=7, clf__n_estimators=500; total time=   0.9s\n",
            "[CV] END clf__learning_rate=1, clf__max_depth=7, clf__n_estimators=500; total time=   1.6s\n",
            "[CV] END clf__learning_rate=1, clf__max_depth=9, clf__n_estimators=5; total time=   0.0s\n",
            "[CV] END clf__learning_rate=1, clf__max_depth=9, clf__n_estimators=5; total time=   0.0s\n",
            "[CV] END clf__learning_rate=1, clf__max_depth=9, clf__n_estimators=5; total time=   0.1s\n",
            "[CV] END clf__learning_rate=1, clf__max_depth=9, clf__n_estimators=50; total time=   0.2s\n",
            "[CV] END clf__learning_rate=1, clf__max_depth=9, clf__n_estimators=50; total time=   0.4s\n",
            "[CV] END clf__learning_rate=1, clf__max_depth=9, clf__n_estimators=50; total time=   0.6s\n",
            "[CV] END clf__learning_rate=1, clf__max_depth=9, clf__n_estimators=250; total time=   0.3s\n",
            "[CV] END clf__learning_rate=1, clf__max_depth=9, clf__n_estimators=250; total time=   0.6s\n",
            "[CV] END clf__learning_rate=1, clf__max_depth=9, clf__n_estimators=250; total time=   1.2s\n",
            "[CV] END clf__learning_rate=1, clf__max_depth=9, clf__n_estimators=500; total time=   0.4s\n",
            "[CV] END clf__learning_rate=1, clf__max_depth=9, clf__n_estimators=500; total time=   0.7s\n",
            "[CV] END clf__learning_rate=1, clf__max_depth=9, clf__n_estimators=500; total time=   1.3s\n",
            "[CV] END clf__learning_rate=10, clf__max_depth=1, clf__n_estimators=5; total time=   0.0s\n",
            "[CV] END clf__learning_rate=10, clf__max_depth=1, clf__n_estimators=5; total time=   0.0s\n",
            "[CV] END clf__learning_rate=10, clf__max_depth=1, clf__n_estimators=5; total time=   0.0s\n",
            "[CV] END clf__learning_rate=10, clf__max_depth=1, clf__n_estimators=50; total time=   0.0s\n",
            "[CV] END clf__learning_rate=10, clf__max_depth=1, clf__n_estimators=50; total time=   0.1s\n",
            "[CV] END clf__learning_rate=10, clf__max_depth=1, clf__n_estimators=50; total time=   0.1s\n",
            "[CV] END clf__learning_rate=10, clf__max_depth=1, clf__n_estimators=250; total time=   0.2s\n",
            "[CV] END clf__learning_rate=10, clf__max_depth=1, clf__n_estimators=250; total time=   0.3s\n",
            "[CV] END clf__learning_rate=10, clf__max_depth=1, clf__n_estimators=250; total time=   0.4s\n",
            "[CV] END clf__learning_rate=10, clf__max_depth=1, clf__n_estimators=500; total time=   0.4s\n",
            "[CV] END clf__learning_rate=10, clf__max_depth=1, clf__n_estimators=500; total time=   0.6s\n",
            "[CV] END clf__learning_rate=10, clf__max_depth=1, clf__n_estimators=500; total time=   0.7s\n",
            "[CV] END clf__learning_rate=10, clf__max_depth=3, clf__n_estimators=5; total time=   0.0s\n",
            "[CV] END clf__learning_rate=10, clf__max_depth=3, clf__n_estimators=5; total time=   0.0s\n",
            "[CV] END clf__learning_rate=10, clf__max_depth=3, clf__n_estimators=5; total time=   0.0s\n",
            "[CV] END clf__learning_rate=10, clf__max_depth=3, clf__n_estimators=50; total time=   0.1s\n",
            "[CV] END clf__learning_rate=10, clf__max_depth=3, clf__n_estimators=50; total time=   0.1s\n",
            "[CV] END clf__learning_rate=10, clf__max_depth=3, clf__n_estimators=50; total time=   0.2s\n",
            "[CV] END clf__learning_rate=10, clf__max_depth=3, clf__n_estimators=250; total time=   0.4s\n",
            "[CV] END clf__learning_rate=10, clf__max_depth=3, clf__n_estimators=250; total time=   0.6s\n",
            "[CV] END clf__learning_rate=10, clf__max_depth=3, clf__n_estimators=250; total time=   0.8s\n",
            "[CV] END clf__learning_rate=10, clf__max_depth=3, clf__n_estimators=500; total time=   0.7s\n",
            "[CV] END clf__learning_rate=10, clf__max_depth=3, clf__n_estimators=500; total time=   1.2s\n",
            "[CV] END clf__learning_rate=10, clf__max_depth=3, clf__n_estimators=500; total time=   1.7s\n",
            "[CV] END clf__learning_rate=10, clf__max_depth=5, clf__n_estimators=5; total time=   0.0s\n",
            "[CV] END clf__learning_rate=10, clf__max_depth=5, clf__n_estimators=5; total time=   0.0s\n",
            "[CV] END clf__learning_rate=10, clf__max_depth=5, clf__n_estimators=5; total time=   0.0s\n",
            "[CV] END clf__learning_rate=10, clf__max_depth=5, clf__n_estimators=50; total time=   0.1s\n",
            "[CV] END clf__learning_rate=10, clf__max_depth=5, clf__n_estimators=50; total time=   0.2s\n",
            "[CV] END clf__learning_rate=10, clf__max_depth=5, clf__n_estimators=50; total time=   0.3s\n",
            "[CV] END clf__learning_rate=10, clf__max_depth=5, clf__n_estimators=250; total time=   0.6s\n",
            "[CV] END clf__learning_rate=10, clf__max_depth=5, clf__n_estimators=250; total time=   1.0s\n",
            "[CV] END clf__learning_rate=10, clf__max_depth=5, clf__n_estimators=250; total time=   1.4s\n",
            "[CV] END clf__learning_rate=10, clf__max_depth=5, clf__n_estimators=500; total time=   1.1s\n",
            "[CV] END clf__learning_rate=10, clf__max_depth=5, clf__n_estimators=500; total time=   1.9s\n",
            "[CV] END clf__learning_rate=10, clf__max_depth=5, clf__n_estimators=500; total time=   2.8s\n",
            "[CV] END clf__learning_rate=10, clf__max_depth=7, clf__n_estimators=5; total time=   0.0s\n",
            "[CV] END clf__learning_rate=10, clf__max_depth=7, clf__n_estimators=5; total time=   0.0s\n",
            "[CV] END clf__learning_rate=10, clf__max_depth=7, clf__n_estimators=5; total time=   0.0s\n",
            "[CV] END clf__learning_rate=10, clf__max_depth=7, clf__n_estimators=50; total time=   0.1s\n",
            "[CV] END clf__learning_rate=10, clf__max_depth=7, clf__n_estimators=50; total time=   0.3s\n",
            "[CV] END clf__learning_rate=10, clf__max_depth=7, clf__n_estimators=50; total time=   0.4s\n",
            "[CV] END clf__learning_rate=10, clf__max_depth=7, clf__n_estimators=250; total time=   0.7s\n",
            "[CV] END clf__learning_rate=10, clf__max_depth=7, clf__n_estimators=250; total time=   1.4s\n",
            "[CV] END clf__learning_rate=10, clf__max_depth=7, clf__n_estimators=250; total time=   2.1s\n",
            "[CV] END clf__learning_rate=10, clf__max_depth=7, clf__n_estimators=500; total time=   1.7s\n",
            "[CV] END clf__learning_rate=10, clf__max_depth=7, clf__n_estimators=500; total time=   3.0s\n",
            "[CV] END clf__learning_rate=10, clf__max_depth=7, clf__n_estimators=500; total time=   3.9s\n",
            "[CV] END clf__learning_rate=10, clf__max_depth=9, clf__n_estimators=5; total time=   0.0s\n",
            "[CV] END clf__learning_rate=10, clf__max_depth=9, clf__n_estimators=5; total time=   0.0s\n",
            "[CV] END clf__learning_rate=10, clf__max_depth=9, clf__n_estimators=5; total time=   0.1s\n",
            "[CV] END clf__learning_rate=10, clf__max_depth=9, clf__n_estimators=50; total time=   0.1s\n",
            "[CV] END clf__learning_rate=10, clf__max_depth=9, clf__n_estimators=50; total time=   0.4s\n",
            "[CV] END clf__learning_rate=10, clf__max_depth=9, clf__n_estimators=50; total time=   0.5s\n",
            "[CV] END clf__learning_rate=10, clf__max_depth=9, clf__n_estimators=250; total time=   0.4s\n",
            "[CV] END clf__learning_rate=10, clf__max_depth=9, clf__n_estimators=250; total time=   1.8s\n",
            "[CV] END clf__learning_rate=10, clf__max_depth=9, clf__n_estimators=250; total time=   2.5s\n",
            "[CV] END clf__learning_rate=10, clf__max_depth=9, clf__n_estimators=500; total time=   1.0s\n",
            "[CV] END clf__learning_rate=10, clf__max_depth=9, clf__n_estimators=500; total time=   3.8s\n",
            "[CV] END clf__learning_rate=10, clf__max_depth=9, clf__n_estimators=500; total time=   5.3s\n",
            "[CV] END clf__learning_rate=100, clf__max_depth=1, clf__n_estimators=5; total time=   0.0s\n",
            "[CV] END clf__learning_rate=100, clf__max_depth=1, clf__n_estimators=5; total time=   0.0s\n",
            "[CV] END clf__learning_rate=100, clf__max_depth=1, clf__n_estimators=5; total time=   0.0s\n",
            "[CV] END clf__learning_rate=100, clf__max_depth=1, clf__n_estimators=50; total time=   0.0s\n",
            "[CV] END clf__learning_rate=100, clf__max_depth=1, clf__n_estimators=50; total time=   0.1s\n",
            "[CV] END clf__learning_rate=100, clf__max_depth=1, clf__n_estimators=50; total time=   0.1s\n",
            "[CV] END clf__learning_rate=100, clf__max_depth=1, clf__n_estimators=250; total time=   0.2s\n",
            "[CV] END clf__learning_rate=100, clf__max_depth=1, clf__n_estimators=250; total time=   0.3s\n",
            "[CV] END clf__learning_rate=100, clf__max_depth=1, clf__n_estimators=250; total time=   0.4s\n",
            "[CV] END clf__learning_rate=100, clf__max_depth=1, clf__n_estimators=500; total time=   0.4s\n",
            "[CV] END clf__learning_rate=100, clf__max_depth=1, clf__n_estimators=500; total time=   0.6s\n",
            "[CV] END clf__learning_rate=100, clf__max_depth=1, clf__n_estimators=500; total time=   0.8s\n",
            "[CV] END clf__learning_rate=100, clf__max_depth=3, clf__n_estimators=5; total time=   0.0s\n",
            "[CV] END clf__learning_rate=100, clf__max_depth=3, clf__n_estimators=5; total time=   0.0s\n",
            "[CV] END clf__learning_rate=100, clf__max_depth=3, clf__n_estimators=5; total time=   0.0s\n",
            "[CV] END clf__learning_rate=100, clf__max_depth=3, clf__n_estimators=50; total time=   0.1s\n",
            "[CV] END clf__learning_rate=100, clf__max_depth=3, clf__n_estimators=50; total time=   0.1s\n",
            "[CV] END clf__learning_rate=100, clf__max_depth=3, clf__n_estimators=50; total time=   0.2s\n",
            "[CV] END clf__learning_rate=100, clf__max_depth=3, clf__n_estimators=250; total time=   0.4s\n",
            "[CV] END clf__learning_rate=100, clf__max_depth=3, clf__n_estimators=250; total time=   0.6s\n",
            "[CV] END clf__learning_rate=100, clf__max_depth=3, clf__n_estimators=250; total time=   0.8s\n",
            "[CV] END clf__learning_rate=100, clf__max_depth=3, clf__n_estimators=500; total time=   0.7s\n",
            "[CV] END clf__learning_rate=100, clf__max_depth=3, clf__n_estimators=500; total time=   1.2s\n",
            "[CV] END clf__learning_rate=100, clf__max_depth=3, clf__n_estimators=500; total time=   1.7s\n",
            "[CV] END clf__learning_rate=100, clf__max_depth=5, clf__n_estimators=5; total time=   0.0s\n",
            "[CV] END clf__learning_rate=100, clf__max_depth=5, clf__n_estimators=5; total time=   0.0s\n",
            "[CV] END clf__learning_rate=100, clf__max_depth=5, clf__n_estimators=5; total time=   0.0s\n",
            "[CV] END clf__learning_rate=100, clf__max_depth=5, clf__n_estimators=50; total time=   0.1s\n",
            "[CV] END clf__learning_rate=100, clf__max_depth=5, clf__n_estimators=50; total time=   0.2s\n",
            "[CV] END clf__learning_rate=100, clf__max_depth=5, clf__n_estimators=50; total time=   0.3s\n",
            "[CV] END clf__learning_rate=100, clf__max_depth=5, clf__n_estimators=250; total time=   0.6s\n",
            "[CV] END clf__learning_rate=100, clf__max_depth=5, clf__n_estimators=250; total time=   1.0s\n",
            "[CV] END clf__learning_rate=100, clf__max_depth=5, clf__n_estimators=250; total time=   1.4s\n",
            "[CV] END clf__learning_rate=100, clf__max_depth=5, clf__n_estimators=500; total time=   1.1s\n",
            "[CV] END clf__learning_rate=100, clf__max_depth=5, clf__n_estimators=500; total time=   2.0s\n",
            "[CV] END clf__learning_rate=100, clf__max_depth=5, clf__n_estimators=500; total time=   2.9s\n",
            "[CV] END clf__learning_rate=100, clf__max_depth=7, clf__n_estimators=5; total time=   0.0s\n",
            "[CV] END clf__learning_rate=100, clf__max_depth=7, clf__n_estimators=5; total time=   0.0s\n",
            "[CV] END clf__learning_rate=100, clf__max_depth=7, clf__n_estimators=5; total time=   0.0s\n",
            "[CV] END clf__learning_rate=100, clf__max_depth=7, clf__n_estimators=50; total time=   0.2s\n",
            "[CV] END clf__learning_rate=100, clf__max_depth=7, clf__n_estimators=50; total time=   0.3s\n",
            "[CV] END clf__learning_rate=100, clf__max_depth=7, clf__n_estimators=50; total time=   0.4s\n",
            "[CV] END clf__learning_rate=100, clf__max_depth=7, clf__n_estimators=250; total time=   0.9s\n",
            "[CV] END clf__learning_rate=100, clf__max_depth=7, clf__n_estimators=250; total time=   1.4s\n",
            "[CV] END clf__learning_rate=100, clf__max_depth=7, clf__n_estimators=250; total time=   2.0s\n",
            "[CV] END clf__learning_rate=100, clf__max_depth=7, clf__n_estimators=500; total time=   1.7s\n",
            "[CV] END clf__learning_rate=100, clf__max_depth=7, clf__n_estimators=500; total time=   2.8s\n",
            "[CV] END clf__learning_rate=100, clf__max_depth=7, clf__n_estimators=500; total time=   4.1s\n",
            "[CV] END clf__learning_rate=100, clf__max_depth=9, clf__n_estimators=5; total time=   0.0s\n",
            "[CV] END clf__learning_rate=100, clf__max_depth=9, clf__n_estimators=5; total time=   0.0s\n",
            "[CV] END clf__learning_rate=100, clf__max_depth=9, clf__n_estimators=5; total time=   0.1s\n",
            "[CV] END clf__learning_rate=100, clf__max_depth=9, clf__n_estimators=50; total time=   0.2s\n",
            "[CV] END clf__learning_rate=100, clf__max_depth=9, clf__n_estimators=50; total time=   0.4s\n",
            "[CV] END clf__learning_rate=100, clf__max_depth=9, clf__n_estimators=50; total time=   0.6s\n",
            "[CV] END clf__learning_rate=100, clf__max_depth=9, clf__n_estimators=250; total time=   1.0s\n",
            "[CV] END clf__learning_rate=100, clf__max_depth=9, clf__n_estimators=250; total time=   1.9s\n",
            "[CV] END clf__learning_rate=100, clf__max_depth=9, clf__n_estimators=250; total time=   2.7s\n",
            "[CV] END clf__learning_rate=100, clf__max_depth=9, clf__n_estimators=500; total time=   1.9s\n",
            "[CV] END clf__learning_rate=100, clf__max_depth=9, clf__n_estimators=500; total time=   3.7s\n",
            "[CV] END clf__learning_rate=100, clf__max_depth=9, clf__n_estimators=500; total time=   5.6s\n",
            "GradientBoost Best Parameters:  {'clf__learning_rate': 1, 'clf__max_depth': 7, 'clf__n_estimators': 500}\n",
            "AdaBoost - - - - - - - - - - - - - - - - - - - - - - - - - - - - - -\n",
            "Fitting 3 folds for each of 145 candidates, totalling 435 fits\n",
            "[CV] END ......clf__learning_rate=0.01, clf__n_estimators=10; total time=   0.0s\n",
            "[CV] END ......clf__learning_rate=0.01, clf__n_estimators=10; total time=   0.0s\n",
            "[CV] END ......clf__learning_rate=0.01, clf__n_estimators=10; total time=   0.0s\n",
            "[CV] END ......clf__learning_rate=0.01, clf__n_estimators=20; total time=   0.0s\n",
            "[CV] END ......clf__learning_rate=0.01, clf__n_estimators=20; total time=   0.1s\n",
            "[CV] END ......clf__learning_rate=0.01, clf__n_estimators=20; total time=   0.1s\n",
            "[CV] END ......clf__learning_rate=0.01, clf__n_estimators=30; total time=   0.1s\n",
            "[CV] END ......clf__learning_rate=0.01, clf__n_estimators=30; total time=   0.1s\n",
            "[CV] END ......clf__learning_rate=0.01, clf__n_estimators=30; total time=   0.1s\n",
            "[CV] END ......clf__learning_rate=0.01, clf__n_estimators=40; total time=   0.1s\n",
            "[CV] END ......clf__learning_rate=0.01, clf__n_estimators=40; total time=   0.1s\n",
            "[CV] END ......clf__learning_rate=0.01, clf__n_estimators=40; total time=   0.1s\n",
            "[CV] END ......clf__learning_rate=0.01, clf__n_estimators=50; total time=   0.1s\n",
            "[CV] END ......clf__learning_rate=0.01, clf__n_estimators=50; total time=   0.1s\n",
            "[CV] END ......clf__learning_rate=0.01, clf__n_estimators=50; total time=   0.1s\n",
            "[CV] END ......clf__learning_rate=0.01, clf__n_estimators=60; total time=   0.1s\n",
            "[CV] END ......clf__learning_rate=0.01, clf__n_estimators=60; total time=   0.1s\n",
            "[CV] END ......clf__learning_rate=0.01, clf__n_estimators=60; total time=   0.2s\n",
            "[CV] END ......clf__learning_rate=0.01, clf__n_estimators=70; total time=   0.1s\n",
            "[CV] END ......clf__learning_rate=0.01, clf__n_estimators=70; total time=   0.2s\n",
            "[CV] END ......clf__learning_rate=0.01, clf__n_estimators=70; total time=   0.2s\n",
            "[CV] END ......clf__learning_rate=0.01, clf__n_estimators=80; total time=   0.2s\n",
            "[CV] END ......clf__learning_rate=0.01, clf__n_estimators=80; total time=   0.2s\n",
            "[CV] END ......clf__learning_rate=0.01, clf__n_estimators=80; total time=   0.2s\n",
            "[CV] END ......clf__learning_rate=0.01, clf__n_estimators=90; total time=   0.2s\n",
            "[CV] END ......clf__learning_rate=0.01, clf__n_estimators=90; total time=   0.2s\n",
            "[CV] END ......clf__learning_rate=0.01, clf__n_estimators=90; total time=   0.3s\n",
            "[CV] END .....clf__learning_rate=0.01, clf__n_estimators=100; total time=   0.2s\n",
            "[CV] END .....clf__learning_rate=0.01, clf__n_estimators=100; total time=   0.2s\n",
            "[CV] END .....clf__learning_rate=0.01, clf__n_estimators=100; total time=   0.3s\n",
            "[CV] END .....clf__learning_rate=0.01, clf__n_estimators=110; total time=   0.2s\n",
            "[CV] END .....clf__learning_rate=0.01, clf__n_estimators=110; total time=   0.3s\n",
            "[CV] END .....clf__learning_rate=0.01, clf__n_estimators=110; total time=   0.3s\n",
            "[CV] END .....clf__learning_rate=0.01, clf__n_estimators=120; total time=   0.2s\n",
            "[CV] END .....clf__learning_rate=0.01, clf__n_estimators=120; total time=   0.3s\n",
            "[CV] END .....clf__learning_rate=0.01, clf__n_estimators=120; total time=   0.3s\n",
            "[CV] END .....clf__learning_rate=0.01, clf__n_estimators=130; total time=   0.2s\n",
            "[CV] END .....clf__learning_rate=0.01, clf__n_estimators=130; total time=   0.3s\n",
            "[CV] END .....clf__learning_rate=0.01, clf__n_estimators=130; total time=   0.3s\n",
            "[CV] END .....clf__learning_rate=0.01, clf__n_estimators=140; total time=   0.3s\n",
            "[CV] END .....clf__learning_rate=0.01, clf__n_estimators=140; total time=   0.3s\n",
            "[CV] END .....clf__learning_rate=0.01, clf__n_estimators=140; total time=   0.4s\n",
            "[CV] END .....clf__learning_rate=0.01, clf__n_estimators=150; total time=   0.3s\n",
            "[CV] END .....clf__learning_rate=0.01, clf__n_estimators=150; total time=   0.4s\n",
            "[CV] END .....clf__learning_rate=0.01, clf__n_estimators=150; total time=   0.4s\n",
            "[CV] END .....clf__learning_rate=0.01, clf__n_estimators=160; total time=   0.3s\n",
            "[CV] END .....clf__learning_rate=0.01, clf__n_estimators=160; total time=   0.4s\n",
            "[CV] END .....clf__learning_rate=0.01, clf__n_estimators=160; total time=   0.4s\n",
            "[CV] END .....clf__learning_rate=0.01, clf__n_estimators=170; total time=   0.3s\n",
            "[CV] END .....clf__learning_rate=0.01, clf__n_estimators=170; total time=   0.4s\n",
            "[CV] END .....clf__learning_rate=0.01, clf__n_estimators=170; total time=   0.5s\n",
            "[CV] END .....clf__learning_rate=0.01, clf__n_estimators=180; total time=   0.3s\n",
            "[CV] END .....clf__learning_rate=0.01, clf__n_estimators=180; total time=   0.4s\n",
            "[CV] END .....clf__learning_rate=0.01, clf__n_estimators=180; total time=   0.5s\n",
            "[CV] END .....clf__learning_rate=0.01, clf__n_estimators=190; total time=   0.4s\n",
            "[CV] END .....clf__learning_rate=0.01, clf__n_estimators=190; total time=   0.4s\n",
            "[CV] END .....clf__learning_rate=0.01, clf__n_estimators=190; total time=   0.5s\n",
            "[CV] END .....clf__learning_rate=0.01, clf__n_estimators=200; total time=   0.4s\n",
            "[CV] END .....clf__learning_rate=0.01, clf__n_estimators=200; total time=   0.5s\n",
            "[CV] END .....clf__learning_rate=0.01, clf__n_estimators=200; total time=   0.5s\n",
            "[CV] END .....clf__learning_rate=0.01, clf__n_estimators=210; total time=   0.4s\n",
            "[CV] END .....clf__learning_rate=0.01, clf__n_estimators=210; total time=   0.5s\n",
            "[CV] END .....clf__learning_rate=0.01, clf__n_estimators=210; total time=   0.6s\n",
            "[CV] END .....clf__learning_rate=0.01, clf__n_estimators=220; total time=   0.4s\n",
            "[CV] END .....clf__learning_rate=0.01, clf__n_estimators=220; total time=   0.5s\n",
            "[CV] END .....clf__learning_rate=0.01, clf__n_estimators=220; total time=   0.6s\n",
            "[CV] END .....clf__learning_rate=0.01, clf__n_estimators=230; total time=   0.4s\n",
            "[CV] END .....clf__learning_rate=0.01, clf__n_estimators=230; total time=   0.5s\n",
            "[CV] END .....clf__learning_rate=0.01, clf__n_estimators=230; total time=   0.6s\n",
            "[CV] END .....clf__learning_rate=0.01, clf__n_estimators=240; total time=   0.4s\n",
            "[CV] END .....clf__learning_rate=0.01, clf__n_estimators=240; total time=   0.5s\n",
            "[CV] END .....clf__learning_rate=0.01, clf__n_estimators=240; total time=   0.6s\n",
            "[CV] END .....clf__learning_rate=0.01, clf__n_estimators=250; total time=   0.5s\n",
            "[CV] END .....clf__learning_rate=0.01, clf__n_estimators=250; total time=   0.6s\n",
            "[CV] END .....clf__learning_rate=0.01, clf__n_estimators=250; total time=   0.7s\n",
            "[CV] END .....clf__learning_rate=0.01, clf__n_estimators=260; total time=   0.5s\n",
            "[CV] END .....clf__learning_rate=0.01, clf__n_estimators=260; total time=   0.6s\n",
            "[CV] END .....clf__learning_rate=0.01, clf__n_estimators=260; total time=   0.7s\n",
            "[CV] END .....clf__learning_rate=0.01, clf__n_estimators=270; total time=   0.5s\n",
            "[CV] END .....clf__learning_rate=0.01, clf__n_estimators=270; total time=   0.6s\n",
            "[CV] END .....clf__learning_rate=0.01, clf__n_estimators=270; total time=   0.8s\n",
            "[CV] END .....clf__learning_rate=0.01, clf__n_estimators=280; total time=   0.5s\n",
            "[CV] END .....clf__learning_rate=0.01, clf__n_estimators=280; total time=   0.6s\n",
            "[CV] END .....clf__learning_rate=0.01, clf__n_estimators=280; total time=   0.8s\n",
            "[CV] END .....clf__learning_rate=0.01, clf__n_estimators=290; total time=   0.5s\n",
            "[CV] END .....clf__learning_rate=0.01, clf__n_estimators=290; total time=   0.7s\n",
            "[CV] END .....clf__learning_rate=0.01, clf__n_estimators=290; total time=   0.8s\n",
            "[CV] END ......clf__learning_rate=0.05, clf__n_estimators=10; total time=   0.0s\n",
            "[CV] END ......clf__learning_rate=0.05, clf__n_estimators=10; total time=   0.0s\n",
            "[CV] END ......clf__learning_rate=0.05, clf__n_estimators=10; total time=   0.0s\n",
            "[CV] END ......clf__learning_rate=0.05, clf__n_estimators=20; total time=   0.0s\n",
            "[CV] END ......clf__learning_rate=0.05, clf__n_estimators=20; total time=   0.1s\n",
            "[CV] END ......clf__learning_rate=0.05, clf__n_estimators=20; total time=   0.1s\n",
            "[CV] END ......clf__learning_rate=0.05, clf__n_estimators=30; total time=   0.1s\n",
            "[CV] END ......clf__learning_rate=0.05, clf__n_estimators=30; total time=   0.1s\n",
            "[CV] END ......clf__learning_rate=0.05, clf__n_estimators=30; total time=   0.1s\n",
            "[CV] END ......clf__learning_rate=0.05, clf__n_estimators=40; total time=   0.1s\n",
            "[CV] END ......clf__learning_rate=0.05, clf__n_estimators=40; total time=   0.1s\n",
            "[CV] END ......clf__learning_rate=0.05, clf__n_estimators=40; total time=   0.1s\n",
            "[CV] END ......clf__learning_rate=0.05, clf__n_estimators=50; total time=   0.1s\n",
            "[CV] END ......clf__learning_rate=0.05, clf__n_estimators=50; total time=   0.1s\n",
            "[CV] END ......clf__learning_rate=0.05, clf__n_estimators=50; total time=   0.1s\n",
            "[CV] END ......clf__learning_rate=0.05, clf__n_estimators=60; total time=   0.1s\n",
            "[CV] END ......clf__learning_rate=0.05, clf__n_estimators=60; total time=   0.1s\n",
            "[CV] END ......clf__learning_rate=0.05, clf__n_estimators=60; total time=   0.2s\n",
            "[CV] END ......clf__learning_rate=0.05, clf__n_estimators=70; total time=   0.1s\n",
            "[CV] END ......clf__learning_rate=0.05, clf__n_estimators=70; total time=   0.2s\n",
            "[CV] END ......clf__learning_rate=0.05, clf__n_estimators=70; total time=   0.2s\n",
            "[CV] END ......clf__learning_rate=0.05, clf__n_estimators=80; total time=   0.2s\n",
            "[CV] END ......clf__learning_rate=0.05, clf__n_estimators=80; total time=   0.2s\n",
            "[CV] END ......clf__learning_rate=0.05, clf__n_estimators=80; total time=   0.2s\n",
            "[CV] END ......clf__learning_rate=0.05, clf__n_estimators=90; total time=   0.2s\n",
            "[CV] END ......clf__learning_rate=0.05, clf__n_estimators=90; total time=   0.2s\n",
            "[CV] END ......clf__learning_rate=0.05, clf__n_estimators=90; total time=   0.2s\n",
            "[CV] END .....clf__learning_rate=0.05, clf__n_estimators=100; total time=   0.2s\n",
            "[CV] END .....clf__learning_rate=0.05, clf__n_estimators=100; total time=   0.2s\n",
            "[CV] END .....clf__learning_rate=0.05, clf__n_estimators=100; total time=   0.3s\n",
            "[CV] END .....clf__learning_rate=0.05, clf__n_estimators=110; total time=   0.2s\n",
            "[CV] END .....clf__learning_rate=0.05, clf__n_estimators=110; total time=   0.3s\n",
            "[CV] END .....clf__learning_rate=0.05, clf__n_estimators=110; total time=   0.3s\n",
            "[CV] END .....clf__learning_rate=0.05, clf__n_estimators=120; total time=   0.2s\n",
            "[CV] END .....clf__learning_rate=0.05, clf__n_estimators=120; total time=   0.3s\n",
            "[CV] END .....clf__learning_rate=0.05, clf__n_estimators=120; total time=   0.3s\n",
            "[CV] END .....clf__learning_rate=0.05, clf__n_estimators=130; total time=   0.2s\n",
            "[CV] END .....clf__learning_rate=0.05, clf__n_estimators=130; total time=   0.3s\n",
            "[CV] END .....clf__learning_rate=0.05, clf__n_estimators=130; total time=   0.4s\n",
            "[CV] END .....clf__learning_rate=0.05, clf__n_estimators=140; total time=   0.3s\n",
            "[CV] END .....clf__learning_rate=0.05, clf__n_estimators=140; total time=   0.3s\n",
            "[CV] END .....clf__learning_rate=0.05, clf__n_estimators=140; total time=   0.4s\n",
            "[CV] END .....clf__learning_rate=0.05, clf__n_estimators=150; total time=   0.3s\n",
            "[CV] END .....clf__learning_rate=0.05, clf__n_estimators=150; total time=   0.3s\n",
            "[CV] END .....clf__learning_rate=0.05, clf__n_estimators=150; total time=   0.4s\n",
            "[CV] END .....clf__learning_rate=0.05, clf__n_estimators=160; total time=   0.3s\n",
            "[CV] END .....clf__learning_rate=0.05, clf__n_estimators=160; total time=   0.4s\n",
            "[CV] END .....clf__learning_rate=0.05, clf__n_estimators=160; total time=   0.4s\n",
            "[CV] END .....clf__learning_rate=0.05, clf__n_estimators=170; total time=   0.3s\n",
            "[CV] END .....clf__learning_rate=0.05, clf__n_estimators=170; total time=   0.4s\n",
            "[CV] END .....clf__learning_rate=0.05, clf__n_estimators=170; total time=   0.5s\n",
            "[CV] END .....clf__learning_rate=0.05, clf__n_estimators=180; total time=   0.3s\n",
            "[CV] END .....clf__learning_rate=0.05, clf__n_estimators=180; total time=   0.4s\n",
            "[CV] END .....clf__learning_rate=0.05, clf__n_estimators=180; total time=   0.5s\n",
            "[CV] END .....clf__learning_rate=0.05, clf__n_estimators=190; total time=   0.4s\n",
            "[CV] END .....clf__learning_rate=0.05, clf__n_estimators=190; total time=   0.4s\n",
            "[CV] END .....clf__learning_rate=0.05, clf__n_estimators=190; total time=   0.5s\n",
            "[CV] END .....clf__learning_rate=0.05, clf__n_estimators=200; total time=   0.4s\n",
            "[CV] END .....clf__learning_rate=0.05, clf__n_estimators=200; total time=   0.5s\n",
            "[CV] END .....clf__learning_rate=0.05, clf__n_estimators=200; total time=   0.6s\n",
            "[CV] END .....clf__learning_rate=0.05, clf__n_estimators=210; total time=   0.4s\n",
            "[CV] END .....clf__learning_rate=0.05, clf__n_estimators=210; total time=   0.5s\n",
            "[CV] END .....clf__learning_rate=0.05, clf__n_estimators=210; total time=   0.6s\n",
            "[CV] END .....clf__learning_rate=0.05, clf__n_estimators=220; total time=   0.4s\n",
            "[CV] END .....clf__learning_rate=0.05, clf__n_estimators=220; total time=   0.5s\n",
            "[CV] END .....clf__learning_rate=0.05, clf__n_estimators=220; total time=   0.6s\n",
            "[CV] END .....clf__learning_rate=0.05, clf__n_estimators=230; total time=   0.4s\n",
            "[CV] END .....clf__learning_rate=0.05, clf__n_estimators=230; total time=   0.5s\n",
            "[CV] END .....clf__learning_rate=0.05, clf__n_estimators=230; total time=   0.6s\n",
            "[CV] END .....clf__learning_rate=0.05, clf__n_estimators=240; total time=   0.5s\n",
            "[CV] END .....clf__learning_rate=0.05, clf__n_estimators=240; total time=   0.6s\n",
            "[CV] END .....clf__learning_rate=0.05, clf__n_estimators=240; total time=   0.7s\n",
            "[CV] END .....clf__learning_rate=0.05, clf__n_estimators=250; total time=   0.5s\n",
            "[CV] END .....clf__learning_rate=0.05, clf__n_estimators=250; total time=   0.6s\n",
            "[CV] END .....clf__learning_rate=0.05, clf__n_estimators=250; total time=   0.7s\n",
            "[CV] END .....clf__learning_rate=0.05, clf__n_estimators=260; total time=   0.5s\n",
            "[CV] END .....clf__learning_rate=0.05, clf__n_estimators=260; total time=   0.6s\n",
            "[CV] END .....clf__learning_rate=0.05, clf__n_estimators=260; total time=   0.7s\n",
            "[CV] END .....clf__learning_rate=0.05, clf__n_estimators=270; total time=   0.5s\n",
            "[CV] END .....clf__learning_rate=0.05, clf__n_estimators=270; total time=   0.6s\n",
            "[CV] END .....clf__learning_rate=0.05, clf__n_estimators=270; total time=   0.7s\n",
            "[CV] END .....clf__learning_rate=0.05, clf__n_estimators=280; total time=   0.5s\n",
            "[CV] END .....clf__learning_rate=0.05, clf__n_estimators=280; total time=   0.6s\n",
            "[CV] END .....clf__learning_rate=0.05, clf__n_estimators=280; total time=   0.8s\n",
            "[CV] END .....clf__learning_rate=0.05, clf__n_estimators=290; total time=   0.5s\n",
            "[CV] END .....clf__learning_rate=0.05, clf__n_estimators=290; total time=   0.7s\n",
            "[CV] END .....clf__learning_rate=0.05, clf__n_estimators=290; total time=   0.8s\n",
            "[CV] END .......clf__learning_rate=0.1, clf__n_estimators=10; total time=   0.0s\n",
            "[CV] END .......clf__learning_rate=0.1, clf__n_estimators=10; total time=   0.0s\n",
            "[CV] END .......clf__learning_rate=0.1, clf__n_estimators=10; total time=   0.0s\n",
            "[CV] END .......clf__learning_rate=0.1, clf__n_estimators=20; total time=   0.0s\n",
            "[CV] END .......clf__learning_rate=0.1, clf__n_estimators=20; total time=   0.0s\n",
            "[CV] END .......clf__learning_rate=0.1, clf__n_estimators=20; total time=   0.1s\n",
            "[CV] END .......clf__learning_rate=0.1, clf__n_estimators=30; total time=   0.1s\n",
            "[CV] END .......clf__learning_rate=0.1, clf__n_estimators=30; total time=   0.1s\n",
            "[CV] END .......clf__learning_rate=0.1, clf__n_estimators=30; total time=   0.1s\n",
            "[CV] END .......clf__learning_rate=0.1, clf__n_estimators=40; total time=   0.1s\n",
            "[CV] END .......clf__learning_rate=0.1, clf__n_estimators=40; total time=   0.1s\n",
            "[CV] END .......clf__learning_rate=0.1, clf__n_estimators=40; total time=   0.1s\n",
            "[CV] END .......clf__learning_rate=0.1, clf__n_estimators=50; total time=   0.1s\n",
            "[CV] END .......clf__learning_rate=0.1, clf__n_estimators=50; total time=   0.1s\n",
            "[CV] END .......clf__learning_rate=0.1, clf__n_estimators=50; total time=   0.1s\n",
            "[CV] END .......clf__learning_rate=0.1, clf__n_estimators=60; total time=   0.1s\n",
            "[CV] END .......clf__learning_rate=0.1, clf__n_estimators=60; total time=   0.1s\n",
            "[CV] END .......clf__learning_rate=0.1, clf__n_estimators=60; total time=   0.2s\n",
            "[CV] END .......clf__learning_rate=0.1, clf__n_estimators=70; total time=   0.1s\n",
            "[CV] END .......clf__learning_rate=0.1, clf__n_estimators=70; total time=   0.2s\n",
            "[CV] END .......clf__learning_rate=0.1, clf__n_estimators=70; total time=   0.2s\n",
            "[CV] END .......clf__learning_rate=0.1, clf__n_estimators=80; total time=   0.2s\n",
            "[CV] END .......clf__learning_rate=0.1, clf__n_estimators=80; total time=   0.2s\n",
            "[CV] END .......clf__learning_rate=0.1, clf__n_estimators=80; total time=   0.2s\n",
            "[CV] END .......clf__learning_rate=0.1, clf__n_estimators=90; total time=   0.2s\n",
            "[CV] END .......clf__learning_rate=0.1, clf__n_estimators=90; total time=   0.2s\n",
            "[CV] END .......clf__learning_rate=0.1, clf__n_estimators=90; total time=   0.2s\n",
            "[CV] END ......clf__learning_rate=0.1, clf__n_estimators=100; total time=   0.2s\n",
            "[CV] END ......clf__learning_rate=0.1, clf__n_estimators=100; total time=   0.2s\n",
            "[CV] END ......clf__learning_rate=0.1, clf__n_estimators=100; total time=   0.3s\n",
            "[CV] END ......clf__learning_rate=0.1, clf__n_estimators=110; total time=   0.2s\n",
            "[CV] END ......clf__learning_rate=0.1, clf__n_estimators=110; total time=   0.3s\n",
            "[CV] END ......clf__learning_rate=0.1, clf__n_estimators=110; total time=   0.3s\n",
            "[CV] END ......clf__learning_rate=0.1, clf__n_estimators=120; total time=   0.2s\n",
            "[CV] END ......clf__learning_rate=0.1, clf__n_estimators=120; total time=   0.3s\n",
            "[CV] END ......clf__learning_rate=0.1, clf__n_estimators=120; total time=   0.3s\n",
            "[CV] END ......clf__learning_rate=0.1, clf__n_estimators=130; total time=   0.2s\n",
            "[CV] END ......clf__learning_rate=0.1, clf__n_estimators=130; total time=   0.3s\n",
            "[CV] END ......clf__learning_rate=0.1, clf__n_estimators=130; total time=   0.4s\n",
            "[CV] END ......clf__learning_rate=0.1, clf__n_estimators=140; total time=   0.3s\n",
            "[CV] END ......clf__learning_rate=0.1, clf__n_estimators=140; total time=   0.3s\n",
            "[CV] END ......clf__learning_rate=0.1, clf__n_estimators=140; total time=   0.4s\n",
            "[CV] END ......clf__learning_rate=0.1, clf__n_estimators=150; total time=   0.3s\n",
            "[CV] END ......clf__learning_rate=0.1, clf__n_estimators=150; total time=   0.3s\n",
            "[CV] END ......clf__learning_rate=0.1, clf__n_estimators=150; total time=   0.4s\n",
            "[CV] END ......clf__learning_rate=0.1, clf__n_estimators=160; total time=   0.3s\n",
            "[CV] END ......clf__learning_rate=0.1, clf__n_estimators=160; total time=   0.4s\n",
            "[CV] END ......clf__learning_rate=0.1, clf__n_estimators=160; total time=   0.4s\n",
            "[CV] END ......clf__learning_rate=0.1, clf__n_estimators=170; total time=   0.3s\n",
            "[CV] END ......clf__learning_rate=0.1, clf__n_estimators=170; total time=   0.4s\n",
            "[CV] END ......clf__learning_rate=0.1, clf__n_estimators=170; total time=   0.5s\n",
            "[CV] END ......clf__learning_rate=0.1, clf__n_estimators=180; total time=   0.4s\n",
            "[CV] END ......clf__learning_rate=0.1, clf__n_estimators=180; total time=   0.4s\n",
            "[CV] END ......clf__learning_rate=0.1, clf__n_estimators=180; total time=   0.5s\n",
            "[CV] END ......clf__learning_rate=0.1, clf__n_estimators=190; total time=   0.4s\n",
            "[CV] END ......clf__learning_rate=0.1, clf__n_estimators=190; total time=   0.4s\n",
            "[CV] END ......clf__learning_rate=0.1, clf__n_estimators=190; total time=   0.5s\n",
            "[CV] END ......clf__learning_rate=0.1, clf__n_estimators=200; total time=   0.4s\n",
            "[CV] END ......clf__learning_rate=0.1, clf__n_estimators=200; total time=   0.5s\n",
            "[CV] END ......clf__learning_rate=0.1, clf__n_estimators=200; total time=   0.5s\n",
            "[CV] END ......clf__learning_rate=0.1, clf__n_estimators=210; total time=   0.4s\n",
            "[CV] END ......clf__learning_rate=0.1, clf__n_estimators=210; total time=   0.5s\n",
            "[CV] END ......clf__learning_rate=0.1, clf__n_estimators=210; total time=   0.6s\n",
            "[CV] END ......clf__learning_rate=0.1, clf__n_estimators=220; total time=   0.4s\n",
            "[CV] END ......clf__learning_rate=0.1, clf__n_estimators=220; total time=   0.5s\n",
            "[CV] END ......clf__learning_rate=0.1, clf__n_estimators=220; total time=   0.6s\n",
            "[CV] END ......clf__learning_rate=0.1, clf__n_estimators=230; total time=   0.4s\n",
            "[CV] END ......clf__learning_rate=0.1, clf__n_estimators=230; total time=   0.5s\n",
            "[CV] END ......clf__learning_rate=0.1, clf__n_estimators=230; total time=   0.6s\n",
            "[CV] END ......clf__learning_rate=0.1, clf__n_estimators=240; total time=   0.4s\n",
            "[CV] END ......clf__learning_rate=0.1, clf__n_estimators=240; total time=   0.5s\n",
            "[CV] END ......clf__learning_rate=0.1, clf__n_estimators=240; total time=   0.6s\n",
            "[CV] END ......clf__learning_rate=0.1, clf__n_estimators=250; total time=   0.5s\n",
            "[CV] END ......clf__learning_rate=0.1, clf__n_estimators=250; total time=   0.6s\n",
            "[CV] END ......clf__learning_rate=0.1, clf__n_estimators=250; total time=   0.7s\n",
            "[CV] END ......clf__learning_rate=0.1, clf__n_estimators=260; total time=   0.5s\n",
            "[CV] END ......clf__learning_rate=0.1, clf__n_estimators=260; total time=   0.6s\n",
            "[CV] END ......clf__learning_rate=0.1, clf__n_estimators=260; total time=   0.7s\n",
            "[CV] END ......clf__learning_rate=0.1, clf__n_estimators=270; total time=   0.5s\n",
            "[CV] END ......clf__learning_rate=0.1, clf__n_estimators=270; total time=   0.6s\n",
            "[CV] END ......clf__learning_rate=0.1, clf__n_estimators=270; total time=   0.8s\n",
            "[CV] END ......clf__learning_rate=0.1, clf__n_estimators=280; total time=   0.5s\n",
            "[CV] END ......clf__learning_rate=0.1, clf__n_estimators=280; total time=   0.7s\n",
            "[CV] END ......clf__learning_rate=0.1, clf__n_estimators=280; total time=   0.8s\n",
            "[CV] END ......clf__learning_rate=0.1, clf__n_estimators=290; total time=   0.6s\n",
            "[CV] END ......clf__learning_rate=0.1, clf__n_estimators=290; total time=   0.7s\n",
            "[CV] END ......clf__learning_rate=0.1, clf__n_estimators=290; total time=   0.8s\n",
            "[CV] END .......clf__learning_rate=0.3, clf__n_estimators=10; total time=   0.0s\n",
            "[CV] END .......clf__learning_rate=0.3, clf__n_estimators=10; total time=   0.0s\n",
            "[CV] END .......clf__learning_rate=0.3, clf__n_estimators=10; total time=   0.0s\n",
            "[CV] END .......clf__learning_rate=0.3, clf__n_estimators=20; total time=   0.0s\n",
            "[CV] END .......clf__learning_rate=0.3, clf__n_estimators=20; total time=   0.1s\n",
            "[CV] END .......clf__learning_rate=0.3, clf__n_estimators=20; total time=   0.1s\n",
            "[CV] END .......clf__learning_rate=0.3, clf__n_estimators=30; total time=   0.1s\n",
            "[CV] END .......clf__learning_rate=0.3, clf__n_estimators=30; total time=   0.1s\n",
            "[CV] END .......clf__learning_rate=0.3, clf__n_estimators=30; total time=   0.1s\n",
            "[CV] END .......clf__learning_rate=0.3, clf__n_estimators=40; total time=   0.1s\n",
            "[CV] END .......clf__learning_rate=0.3, clf__n_estimators=40; total time=   0.1s\n",
            "[CV] END .......clf__learning_rate=0.3, clf__n_estimators=40; total time=   0.1s\n",
            "[CV] END .......clf__learning_rate=0.3, clf__n_estimators=50; total time=   0.1s\n",
            "[CV] END .......clf__learning_rate=0.3, clf__n_estimators=50; total time=   0.1s\n",
            "[CV] END .......clf__learning_rate=0.3, clf__n_estimators=50; total time=   0.1s\n",
            "[CV] END .......clf__learning_rate=0.3, clf__n_estimators=60; total time=   0.1s\n",
            "[CV] END .......clf__learning_rate=0.3, clf__n_estimators=60; total time=   0.1s\n",
            "[CV] END .......clf__learning_rate=0.3, clf__n_estimators=60; total time=   0.2s\n",
            "[CV] END .......clf__learning_rate=0.3, clf__n_estimators=70; total time=   0.1s\n",
            "[CV] END .......clf__learning_rate=0.3, clf__n_estimators=70; total time=   0.2s\n",
            "[CV] END .......clf__learning_rate=0.3, clf__n_estimators=70; total time=   0.2s\n",
            "[CV] END .......clf__learning_rate=0.3, clf__n_estimators=80; total time=   0.2s\n",
            "[CV] END .......clf__learning_rate=0.3, clf__n_estimators=80; total time=   0.2s\n",
            "[CV] END .......clf__learning_rate=0.3, clf__n_estimators=80; total time=   0.2s\n",
            "[CV] END .......clf__learning_rate=0.3, clf__n_estimators=90; total time=   0.2s\n",
            "[CV] END .......clf__learning_rate=0.3, clf__n_estimators=90; total time=   0.2s\n",
            "[CV] END .......clf__learning_rate=0.3, clf__n_estimators=90; total time=   0.3s\n",
            "[CV] END ......clf__learning_rate=0.3, clf__n_estimators=100; total time=   0.2s\n",
            "[CV] END ......clf__learning_rate=0.3, clf__n_estimators=100; total time=   0.2s\n",
            "[CV] END ......clf__learning_rate=0.3, clf__n_estimators=100; total time=   0.3s\n",
            "[CV] END ......clf__learning_rate=0.3, clf__n_estimators=110; total time=   0.2s\n",
            "[CV] END ......clf__learning_rate=0.3, clf__n_estimators=110; total time=   0.3s\n",
            "[CV] END ......clf__learning_rate=0.3, clf__n_estimators=110; total time=   0.3s\n",
            "[CV] END ......clf__learning_rate=0.3, clf__n_estimators=120; total time=   0.2s\n",
            "[CV] END ......clf__learning_rate=0.3, clf__n_estimators=120; total time=   0.3s\n",
            "[CV] END ......clf__learning_rate=0.3, clf__n_estimators=120; total time=   0.3s\n",
            "[CV] END ......clf__learning_rate=0.3, clf__n_estimators=130; total time=   0.3s\n",
            "[CV] END ......clf__learning_rate=0.3, clf__n_estimators=130; total time=   0.3s\n",
            "[CV] END ......clf__learning_rate=0.3, clf__n_estimators=130; total time=   0.4s\n",
            "[CV] END ......clf__learning_rate=0.3, clf__n_estimators=140; total time=   0.3s\n",
            "[CV] END ......clf__learning_rate=0.3, clf__n_estimators=140; total time=   0.3s\n",
            "[CV] END ......clf__learning_rate=0.3, clf__n_estimators=140; total time=   0.4s\n",
            "[CV] END ......clf__learning_rate=0.3, clf__n_estimators=150; total time=   0.3s\n",
            "[CV] END ......clf__learning_rate=0.3, clf__n_estimators=150; total time=   0.4s\n",
            "[CV] END ......clf__learning_rate=0.3, clf__n_estimators=150; total time=   0.4s\n",
            "[CV] END ......clf__learning_rate=0.3, clf__n_estimators=160; total time=   0.3s\n",
            "[CV] END ......clf__learning_rate=0.3, clf__n_estimators=160; total time=   0.4s\n",
            "[CV] END ......clf__learning_rate=0.3, clf__n_estimators=160; total time=   0.5s\n",
            "[CV] END ......clf__learning_rate=0.3, clf__n_estimators=170; total time=   0.3s\n",
            "[CV] END ......clf__learning_rate=0.3, clf__n_estimators=170; total time=   0.5s\n",
            "[CV] END ......clf__learning_rate=0.3, clf__n_estimators=170; total time=   0.5s\n",
            "[CV] END ......clf__learning_rate=0.3, clf__n_estimators=180; total time=   0.3s\n",
            "[CV] END ......clf__learning_rate=0.3, clf__n_estimators=180; total time=   0.4s\n",
            "[CV] END ......clf__learning_rate=0.3, clf__n_estimators=180; total time=   0.5s\n",
            "[CV] END ......clf__learning_rate=0.3, clf__n_estimators=190; total time=   0.4s\n",
            "[CV] END ......clf__learning_rate=0.3, clf__n_estimators=190; total time=   0.4s\n",
            "[CV] END ......clf__learning_rate=0.3, clf__n_estimators=190; total time=   0.5s\n",
            "[CV] END ......clf__learning_rate=0.3, clf__n_estimators=200; total time=   0.4s\n",
            "[CV] END ......clf__learning_rate=0.3, clf__n_estimators=200; total time=   0.5s\n",
            "[CV] END ......clf__learning_rate=0.3, clf__n_estimators=200; total time=   0.6s\n",
            "[CV] END ......clf__learning_rate=0.3, clf__n_estimators=210; total time=   0.4s\n",
            "[CV] END ......clf__learning_rate=0.3, clf__n_estimators=210; total time=   0.5s\n",
            "[CV] END ......clf__learning_rate=0.3, clf__n_estimators=210; total time=   0.6s\n",
            "[CV] END ......clf__learning_rate=0.3, clf__n_estimators=220; total time=   0.4s\n",
            "[CV] END ......clf__learning_rate=0.3, clf__n_estimators=220; total time=   0.5s\n",
            "[CV] END ......clf__learning_rate=0.3, clf__n_estimators=220; total time=   0.6s\n",
            "[CV] END ......clf__learning_rate=0.3, clf__n_estimators=230; total time=   0.4s\n",
            "[CV] END ......clf__learning_rate=0.3, clf__n_estimators=230; total time=   0.6s\n",
            "[CV] END ......clf__learning_rate=0.3, clf__n_estimators=230; total time=   0.7s\n",
            "[CV] END ......clf__learning_rate=0.3, clf__n_estimators=240; total time=   0.5s\n",
            "[CV] END ......clf__learning_rate=0.3, clf__n_estimators=240; total time=   0.6s\n",
            "[CV] END ......clf__learning_rate=0.3, clf__n_estimators=240; total time=   0.7s\n",
            "[CV] END ......clf__learning_rate=0.3, clf__n_estimators=250; total time=   0.5s\n",
            "[CV] END ......clf__learning_rate=0.3, clf__n_estimators=250; total time=   0.6s\n",
            "[CV] END ......clf__learning_rate=0.3, clf__n_estimators=250; total time=   0.7s\n",
            "[CV] END ......clf__learning_rate=0.3, clf__n_estimators=260; total time=   0.5s\n",
            "[CV] END ......clf__learning_rate=0.3, clf__n_estimators=260; total time=   0.6s\n",
            "[CV] END ......clf__learning_rate=0.3, clf__n_estimators=260; total time=   0.7s\n",
            "[CV] END ......clf__learning_rate=0.3, clf__n_estimators=270; total time=   0.5s\n",
            "[CV] END ......clf__learning_rate=0.3, clf__n_estimators=270; total time=   0.6s\n",
            "[CV] END ......clf__learning_rate=0.3, clf__n_estimators=270; total time=   0.8s\n",
            "[CV] END ......clf__learning_rate=0.3, clf__n_estimators=280; total time=   0.5s\n",
            "[CV] END ......clf__learning_rate=0.3, clf__n_estimators=280; total time=   0.7s\n",
            "[CV] END ......clf__learning_rate=0.3, clf__n_estimators=280; total time=   0.8s\n",
            "[CV] END ......clf__learning_rate=0.3, clf__n_estimators=290; total time=   0.6s\n",
            "[CV] END ......clf__learning_rate=0.3, clf__n_estimators=290; total time=   0.7s\n",
            "[CV] END ......clf__learning_rate=0.3, clf__n_estimators=290; total time=   0.8s\n",
            "[CV] END .........clf__learning_rate=1, clf__n_estimators=10; total time=   0.0s\n",
            "[CV] END .........clf__learning_rate=1, clf__n_estimators=10; total time=   0.0s\n",
            "[CV] END .........clf__learning_rate=1, clf__n_estimators=10; total time=   0.0s\n",
            "[CV] END .........clf__learning_rate=1, clf__n_estimators=20; total time=   0.0s\n",
            "[CV] END .........clf__learning_rate=1, clf__n_estimators=20; total time=   0.1s\n",
            "[CV] END .........clf__learning_rate=1, clf__n_estimators=20; total time=   0.1s\n",
            "[CV] END .........clf__learning_rate=1, clf__n_estimators=30; total time=   0.1s\n",
            "[CV] END .........clf__learning_rate=1, clf__n_estimators=30; total time=   0.1s\n",
            "[CV] END .........clf__learning_rate=1, clf__n_estimators=30; total time=   0.1s\n",
            "[CV] END .........clf__learning_rate=1, clf__n_estimators=40; total time=   0.1s\n",
            "[CV] END .........clf__learning_rate=1, clf__n_estimators=40; total time=   0.1s\n",
            "[CV] END .........clf__learning_rate=1, clf__n_estimators=40; total time=   0.1s\n",
            "[CV] END .........clf__learning_rate=1, clf__n_estimators=50; total time=   0.1s\n",
            "[CV] END .........clf__learning_rate=1, clf__n_estimators=50; total time=   0.1s\n",
            "[CV] END .........clf__learning_rate=1, clf__n_estimators=50; total time=   0.1s\n",
            "[CV] END .........clf__learning_rate=1, clf__n_estimators=60; total time=   0.1s\n",
            "[CV] END .........clf__learning_rate=1, clf__n_estimators=60; total time=   0.1s\n",
            "[CV] END .........clf__learning_rate=1, clf__n_estimators=60; total time=   0.2s\n",
            "[CV] END .........clf__learning_rate=1, clf__n_estimators=70; total time=   0.1s\n",
            "[CV] END .........clf__learning_rate=1, clf__n_estimators=70; total time=   0.2s\n",
            "[CV] END .........clf__learning_rate=1, clf__n_estimators=70; total time=   0.2s\n",
            "[CV] END .........clf__learning_rate=1, clf__n_estimators=80; total time=   0.2s\n",
            "[CV] END .........clf__learning_rate=1, clf__n_estimators=80; total time=   0.2s\n",
            "[CV] END .........clf__learning_rate=1, clf__n_estimators=80; total time=   0.2s\n",
            "[CV] END .........clf__learning_rate=1, clf__n_estimators=90; total time=   0.2s\n",
            "[CV] END .........clf__learning_rate=1, clf__n_estimators=90; total time=   0.2s\n",
            "[CV] END .........clf__learning_rate=1, clf__n_estimators=90; total time=   0.3s\n",
            "[CV] END ........clf__learning_rate=1, clf__n_estimators=100; total time=   0.2s\n",
            "[CV] END ........clf__learning_rate=1, clf__n_estimators=100; total time=   0.2s\n",
            "[CV] END ........clf__learning_rate=1, clf__n_estimators=100; total time=   0.3s\n",
            "[CV] END ........clf__learning_rate=1, clf__n_estimators=110; total time=   0.2s\n",
            "[CV] END ........clf__learning_rate=1, clf__n_estimators=110; total time=   0.3s\n",
            "[CV] END ........clf__learning_rate=1, clf__n_estimators=110; total time=   0.3s\n",
            "[CV] END ........clf__learning_rate=1, clf__n_estimators=120; total time=   0.2s\n",
            "[CV] END ........clf__learning_rate=1, clf__n_estimators=120; total time=   0.3s\n",
            "[CV] END ........clf__learning_rate=1, clf__n_estimators=120; total time=   0.3s\n",
            "[CV] END ........clf__learning_rate=1, clf__n_estimators=130; total time=   0.3s\n",
            "[CV] END ........clf__learning_rate=1, clf__n_estimators=130; total time=   0.3s\n",
            "[CV] END ........clf__learning_rate=1, clf__n_estimators=130; total time=   0.4s\n",
            "[CV] END ........clf__learning_rate=1, clf__n_estimators=140; total time=   0.3s\n",
            "[CV] END ........clf__learning_rate=1, clf__n_estimators=140; total time=   0.3s\n",
            "[CV] END ........clf__learning_rate=1, clf__n_estimators=140; total time=   0.4s\n",
            "[CV] END ........clf__learning_rate=1, clf__n_estimators=150; total time=   0.3s\n",
            "[CV] END ........clf__learning_rate=1, clf__n_estimators=150; total time=   0.4s\n",
            "[CV] END ........clf__learning_rate=1, clf__n_estimators=150; total time=   0.4s\n",
            "[CV] END ........clf__learning_rate=1, clf__n_estimators=160; total time=   0.3s\n",
            "[CV] END ........clf__learning_rate=1, clf__n_estimators=160; total time=   0.4s\n",
            "[CV] END ........clf__learning_rate=1, clf__n_estimators=160; total time=   0.4s\n",
            "[CV] END ........clf__learning_rate=1, clf__n_estimators=170; total time=   0.3s\n",
            "[CV] END ........clf__learning_rate=1, clf__n_estimators=170; total time=   0.4s\n",
            "[CV] END ........clf__learning_rate=1, clf__n_estimators=170; total time=   0.5s\n",
            "[CV] END ........clf__learning_rate=1, clf__n_estimators=180; total time=   0.3s\n",
            "[CV] END ........clf__learning_rate=1, clf__n_estimators=180; total time=   0.4s\n",
            "[CV] END ........clf__learning_rate=1, clf__n_estimators=180; total time=   0.5s\n",
            "[CV] END ........clf__learning_rate=1, clf__n_estimators=190; total time=   0.4s\n",
            "[CV] END ........clf__learning_rate=1, clf__n_estimators=190; total time=   0.5s\n",
            "[CV] END ........clf__learning_rate=1, clf__n_estimators=190; total time=   0.5s\n",
            "[CV] END ........clf__learning_rate=1, clf__n_estimators=200; total time=   0.4s\n",
            "[CV] END ........clf__learning_rate=1, clf__n_estimators=200; total time=   0.5s\n",
            "[CV] END ........clf__learning_rate=1, clf__n_estimators=200; total time=   0.6s\n",
            "[CV] END ........clf__learning_rate=1, clf__n_estimators=210; total time=   0.4s\n",
            "[CV] END ........clf__learning_rate=1, clf__n_estimators=210; total time=   0.5s\n",
            "[CV] END ........clf__learning_rate=1, clf__n_estimators=210; total time=   0.6s\n",
            "[CV] END ........clf__learning_rate=1, clf__n_estimators=220; total time=   0.4s\n",
            "[CV] END ........clf__learning_rate=1, clf__n_estimators=220; total time=   0.5s\n",
            "[CV] END ........clf__learning_rate=1, clf__n_estimators=220; total time=   0.6s\n",
            "[CV] END ........clf__learning_rate=1, clf__n_estimators=230; total time=   0.4s\n",
            "[CV] END ........clf__learning_rate=1, clf__n_estimators=230; total time=   0.6s\n",
            "[CV] END ........clf__learning_rate=1, clf__n_estimators=230; total time=   0.7s\n",
            "[CV] END ........clf__learning_rate=1, clf__n_estimators=240; total time=   0.5s\n",
            "[CV] END ........clf__learning_rate=1, clf__n_estimators=240; total time=   0.6s\n",
            "[CV] END ........clf__learning_rate=1, clf__n_estimators=240; total time=   0.7s\n",
            "[CV] END ........clf__learning_rate=1, clf__n_estimators=250; total time=   0.5s\n",
            "[CV] END ........clf__learning_rate=1, clf__n_estimators=250; total time=   0.6s\n",
            "[CV] END ........clf__learning_rate=1, clf__n_estimators=250; total time=   0.7s\n",
            "[CV] END ........clf__learning_rate=1, clf__n_estimators=260; total time=   0.5s\n",
            "[CV] END ........clf__learning_rate=1, clf__n_estimators=260; total time=   0.6s\n",
            "[CV] END ........clf__learning_rate=1, clf__n_estimators=260; total time=   0.7s\n",
            "[CV] END ........clf__learning_rate=1, clf__n_estimators=270; total time=   0.5s\n",
            "[CV] END ........clf__learning_rate=1, clf__n_estimators=270; total time=   0.6s\n",
            "[CV] END ........clf__learning_rate=1, clf__n_estimators=270; total time=   0.8s\n",
            "[CV] END ........clf__learning_rate=1, clf__n_estimators=280; total time=   0.5s\n",
            "[CV] END ........clf__learning_rate=1, clf__n_estimators=280; total time=   0.7s\n",
            "[CV] END ........clf__learning_rate=1, clf__n_estimators=280; total time=   0.8s\n",
            "[CV] END ........clf__learning_rate=1, clf__n_estimators=290; total time=   0.6s\n",
            "[CV] END ........clf__learning_rate=1, clf__n_estimators=290; total time=   0.7s\n",
            "[CV] END ........clf__learning_rate=1, clf__n_estimators=290; total time=   0.8s\n",
            "AdaBoost Best Parameters:  {'clf__learning_rate': 1, 'clf__n_estimators': 20}\n"
          ]
        }
      ],
      "source": [
        "# Dictionary storing the best estimators for each classifier \n",
        "best_estimators = {}\n",
        "\n",
        "# Grid Searching each classifier\n",
        "for name, vals in top3.items():\n",
        "    print(name + ' -'*30)\n",
        "    \n",
        "    # Grid Searching \n",
        "    gs = GridSearchCV(vals[0], vals[1] , cv=tscv, return_train_score=True, verbose=2, scoring='accuracy')\n",
        "    gs.fit(X_train, y_train)\n",
        "    \n",
        "    # Printing out the best parameters for the selected classifier\n",
        "    print(name+' Best Parameters: ', gs.best_params_)\n",
        "    \n",
        "    # Saving the best estimators/tuned models\n",
        "    best_estimators[name+'_clf'] = gs.best_estimator_"
      ]
    },
    {
      "cell_type": "markdown",
      "metadata": {
        "id": "JTt4ofXV4yWQ"
      },
      "source": [
        "### 7.2 Classification Report for each Tuned Model"
      ]
    },
    {
      "cell_type": "code",
      "execution_count": 23,
      "metadata": {
        "colab": {
          "base_uri": "https://localhost:8080/"
        },
        "id": "vOPOd2_p2PB1",
        "outputId": "adeb5d1c-5d0e-4dfe-95b8-6a50205150dd"
      },
      "outputs": [
        {
          "name": "stdout",
          "output_type": "stream",
          "text": [
            "\n",
            "Tuned NaiveBayes_clf (Accuracy Score):\n",
            "0.4882005899705015\n",
            "\n",
            "Tuned GradientBoost_clf (Accuracy Score):\n",
            "0.556047197640118\n",
            "\n",
            "Tuned AdaBoost_clf (Accuracy Score):\n",
            "0.5589970501474927\n"
          ]
        }
      ],
      "source": [
        "# Looping through each tuned model's predictions and getting their classification reports\n",
        "for name, pipe in best_estimators.items():\n",
        "    print('\\nTuned '+ name + ' (Accuracy Score):')\n",
        "    \n",
        "    report = classification_report(y_test, pipe.predict(X_test), target_names=['Sell', 'Buy'], output_dict=True)\n",
        "    print(report['accuracy'])"
      ]
    },
    {
      "cell_type": "markdown",
      "metadata": {
        "id": "BFZrQKaJ49M3"
      },
      "source": [
        "We can see that the scores have improved slightly:\n",
        "\n",
        "**NaiveBayes**    \n",
        "0.6019108280254777 ->  0.606687898089172  \n",
        "\n",
        "**GradientBoost**   \n",
        "0.5732484076433121 ->  0.5907643312101911  \n",
        "\n",
        "**Adaboost**      \n",
        "0.571656050955414  ->  0.5732484076433121\n"
      ]
    },
    {
      "cell_type": "markdown",
      "metadata": {
        "id": "NTgxQTnu6ypI"
      },
      "source": [
        "## 8. Confusion Matrix\n",
        "\n",
        "We will plot a confusion matrix for each tuned model to better visualise performance."
      ]
    },
    {
      "cell_type": "code",
      "execution_count": 24,
      "metadata": {
        "id": "-0SbNcWL6uhD"
      },
      "outputs": [],
      "source": [
        "# Function for confusion matrix\n",
        "\n",
        "def plot_confusion_matrix(y_true, y_pred, labels=[\"Sell\", \"Buy\"], \n",
        "                          normalize=False, title=None, cmap=plt.cm.coolwarm):\n",
        "\n",
        "    cm = confusion_matrix(y_true, y_pred)\n",
        "    fig, ax = plt.subplots(figsize=(12,6))\n",
        "    im = ax.imshow(cm, interpolation='nearest', cmap=cmap)\n",
        "    ax.figure.colorbar(im, ax=ax)\n",
        "    # We want to show all ticks...\n",
        "    ax.set(xticks=np.arange(cm.shape[1]),\n",
        "           yticks=np.arange(cm.shape[0]),\n",
        "           # ... and label them with the respective list entries\n",
        "           xticklabels=labels, yticklabels=labels,\n",
        "           title=title,\n",
        "           ylabel='ACTUAL',\n",
        "           xlabel='PREDICTED')\n",
        "    # Rotate the tick labels and set their alignment.\n",
        "    plt.setp(ax.get_xticklabels(), rotation=45, ha=\"right\",\n",
        "             rotation_mode=\"anchor\")\n",
        "    # Loop over data dimensions and create text annotations.\n",
        "    fmt = '.2f' if normalize else 'd'\n",
        "    thresh = cm.max() / 1.5\n",
        "    for i in range(cm.shape[0]):\n",
        "        for j in range(cm.shape[1]):\n",
        "            ax.text(j, i, format(cm[i, j], fmt),\n",
        "                    ha=\"center\", va=\"center\",\n",
        "                    color=\"snow\" if cm[i, j] > thresh else \"orange\",\n",
        "                    size=26)\n",
        "    ax.grid(False)\n",
        "    fig.tight_layout()\n",
        "    return ax"
      ]
    },
    {
      "cell_type": "markdown",
      "metadata": {
        "id": "EhEyipP_8CXY"
      },
      "source": [
        "### 8.1 Confusion matrix for Gaussian Naive Bayes Classifier"
      ]
    },
    {
      "cell_type": "code",
      "execution_count": 25,
      "metadata": {
        "colab": {
          "base_uri": "https://localhost:8080/",
          "height": 594
        },
        "id": "D7mQKxPL6aaW",
        "outputId": "8fb4b947-e591-4a92-8470-2ba41c3e464e"
      },
      "outputs": [
        {
          "data": {
            "image/png": "[encoded data removed]",
            "text/plain": [
              "<Figure size 1200x600 with 2 Axes>"
            ]
          },
          "metadata": {},
          "output_type": "display_data"
        },
        {
          "name": "stdout",
          "output_type": "stream",
          "text": [
            "              precision    recall  f1-score   support\n",
            "\n",
            "        Sell       0.43      0.49      0.46       301\n",
            "         Buy       0.54      0.49      0.51       377\n",
            "\n",
            "    accuracy                           0.49       678\n",
            "   macro avg       0.49      0.49      0.49       678\n",
            "weighted avg       0.49      0.49      0.49       678\n",
            "\n"
          ]
        }
      ],
      "source": [
        "# Plot confusion matrix\n",
        "plot_confusion_matrix(y_test, best_estimators['NaiveBayes_clf'].predict(X_test), title=\"Confusion Matrix\")\n",
        "np.set_printoptions(precision=1)\n",
        "plt.show()\n",
        "\n",
        "# Final Classification Report\n",
        "print(classification_report(y_test, best_estimators['NaiveBayes_clf'].predict(X_test), target_names=['Sell', 'Buy']))"
      ]
    },
    {
      "cell_type": "markdown",
      "metadata": {
        "id": "oMd6FJeBBiRE"
      },
      "source": [
        "The precision score is the 'exactness', or ability of the model to return only relevant instances. When a model makes a prediction, how often it is correct? Here it shows that the Buy class is being correctly classified 61% of the time and the Sell class 59% of the time."
      ]
    },
    {
      "cell_type": "markdown",
      "metadata": {
        "id": "Ee2QnQnQ8REv"
      },
      "source": [
        "### 8.2 Confusion matrix for Gradient Boosting Classifier"
      ]
    },
    {
      "cell_type": "code",
      "execution_count": 26,
      "metadata": {
        "colab": {
          "base_uri": "https://localhost:8080/",
          "height": 594
        },
        "id": "YmAHKNML62xk",
        "outputId": "6d57f632-565a-4587-ecec-e3bf53bc63bf"
      },
      "outputs": [
        {
          "data": {
            "image/png": "[encoded data removed]",
            "text/plain": [
              "<Figure size 1200x600 with 2 Axes>"
            ]
          },
          "metadata": {},
          "output_type": "display_data"
        },
        {
          "name": "stdout",
          "output_type": "stream",
          "text": [
            "              precision    recall  f1-score   support\n",
            "\n",
            "        Sell       0.50      0.16      0.24       301\n",
            "         Buy       0.57      0.87      0.69       377\n",
            "\n",
            "    accuracy                           0.56       678\n",
            "   macro avg       0.53      0.52      0.46       678\n",
            "weighted avg       0.54      0.56      0.49       678\n",
            "\n"
          ]
        }
      ],
      "source": [
        "# Plot confusion matrix\n",
        "plot_confusion_matrix(y_test, best_estimators['GradientBoost_clf'].predict(X_test), title=\"Confusion Matrix\")\n",
        "np.set_printoptions(precision=1)\n",
        "plt.show()\n",
        "\n",
        "# Final Classification Report\n",
        "print(classification_report(y_test, best_estimators['GradientBoost_clf'].predict(X_test), target_names=['Sell', 'Buy']))"
      ]
    },
    {
      "cell_type": "markdown",
      "metadata": {
        "id": "uWnMfUejAqDe"
      },
      "source": [
        "The precision score shows that the Buy class is being correctly classified 59% of the time and the Sell class 62% of the time."
      ]
    },
    {
      "cell_type": "markdown",
      "metadata": {
        "id": "sNLuEhSR8gaO"
      },
      "source": [
        "### 8.3 Confusion matrix for Adaptive Boosting Classifier"
      ]
    },
    {
      "cell_type": "code",
      "execution_count": 27,
      "metadata": {
        "colab": {
          "base_uri": "https://localhost:8080/",
          "height": 594
        },
        "id": "EiB5gG_U697u",
        "outputId": "4ba11bf6-367b-4e33-e15f-a833f1529fdf"
      },
      "outputs": [
        {
          "data": {
            "image/png": "[encoded data removed]",
            "text/plain": [
              "<Figure size 1200x600 with 2 Axes>"
            ]
          },
          "metadata": {},
          "output_type": "display_data"
        },
        {
          "name": "stdout",
          "output_type": "stream",
          "text": [
            "              precision    recall  f1-score   support\n",
            "\n",
            "        Sell       0.52      0.11      0.18       301\n",
            "         Buy       0.56      0.92      0.70       377\n",
            "\n",
            "    accuracy                           0.56       678\n",
            "   macro avg       0.54      0.51      0.44       678\n",
            "weighted avg       0.54      0.56      0.47       678\n",
            "\n"
          ]
        }
      ],
      "source": [
        "# Plot confusion matrix\n",
        "plot_confusion_matrix(y_test, best_estimators['AdaBoost_clf'].predict(X_test), title=\"Confusion Matrix\")\n",
        "np.set_printoptions(precision=1)\n",
        "plt.show()\n",
        "\n",
        "# Final Classification Report\n",
        "print(classification_report(y_test, best_estimators['AdaBoost_clf'].predict(X_test), target_names=['Sell', 'Buy']))"
      ]
    },
    {
      "cell_type": "markdown",
      "metadata": {
        "id": "8ey61UD8E1Zr"
      },
      "source": [
        "The precision score shows that the Buy class is being correctly classified 57% of the time and the Sell class 60% of the time."
      ]
    }
  ],
  "metadata": {
    "colab": {
      "collapsed_sections": [],
      "name": "2021-05-03 Classifier Models v6.ipynb",
      "provenance": []
    },
    "kernelspec": {
      "display_name": "Python 3",
      "name": "python3"
    },
    "language_info": {
      "codemirror_mode": {
        "name": "ipython",
        "version": 3
      },
      "file_extension": ".py",
      "mimetype": "text/x-python",
      "name": "python",
      "nbconvert_exporter": "python",
      "pygments_lexer": "ipython3",
      "version": "3.8.10"
    }
  },
  "nbformat": 4,
  "nbformat_minor": 0
}
